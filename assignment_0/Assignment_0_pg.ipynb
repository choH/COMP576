{
  "nbformat": 4,
  "nbformat_minor": 0,
  "metadata": {
    "colab": {
      "provenance": [],
      "collapsed_sections": []
    },
    "kernelspec": {
      "name": "python3",
      "display_name": "Python 3"
    },
    "language_info": {
      "name": "python"
    }
  },
  "cells": [
    {
      "cell_type": "code",
      "execution_count": 6,
      "metadata": {
        "colab": {
          "base_uri": "https://localhost:8080/",
          "height": 0
        },
        "id": "MsXd4xMb4md5",
        "outputId": "33e49aef-1892-4af4-c38d-84a543f96301"
      },
      "outputs": [
        {
          "output_type": "stream",
          "name": "stdout",
          "text": [
            "2\n",
            "6\n",
            "(2, 3)\n",
            "[[1. 2. 3.]\n",
            " [4. 5. 6.]]\n"
          ]
        }
      ],
      "source": [
        "import numpy as np\n",
        "\n",
        "a = np.array([[1. ,2. ,3.], [4. ,5. ,6.]])\n"
      ]
    },
    {
      "cell_type": "code",
      "source": [
        "a.ndim"
      ],
      "metadata": {
        "colab": {
          "base_uri": "https://localhost:8080/",
          "height": 0
        },
        "id": "oCpEIA74-vm1",
        "outputId": "70264a58-2273-4d74-dd4e-6b23e591f26e"
      },
      "execution_count": 7,
      "outputs": [
        {
          "output_type": "execute_result",
          "data": {
            "text/plain": [
              "2"
            ]
          },
          "metadata": {},
          "execution_count": 7
        }
      ]
    },
    {
      "cell_type": "code",
      "source": [
        "a.size"
      ],
      "metadata": {
        "colab": {
          "base_uri": "https://localhost:8080/",
          "height": 0
        },
        "id": "iUQnNmfK_C2m",
        "outputId": "3f7d7c17-3283-442d-af9a-ff1ea7364e58"
      },
      "execution_count": 8,
      "outputs": [
        {
          "output_type": "execute_result",
          "data": {
            "text/plain": [
              "6"
            ]
          },
          "metadata": {},
          "execution_count": 8
        }
      ]
    },
    {
      "cell_type": "code",
      "source": [
        "a.shape"
      ],
      "metadata": {
        "colab": {
          "base_uri": "https://localhost:8080/",
          "height": 0
        },
        "id": "_WXbFUEH_FH5",
        "outputId": "7d9e4f3a-4cd3-4cdf-8792-a103dd8d5ab2"
      },
      "execution_count": 9,
      "outputs": [
        {
          "output_type": "execute_result",
          "data": {
            "text/plain": [
              "(2, 3)"
            ]
          },
          "metadata": {},
          "execution_count": 9
        }
      ]
    },
    {
      "cell_type": "code",
      "source": [
        "np.array([[1. ,2. ,3.], [4. ,5. ,6.]])"
      ],
      "metadata": {
        "colab": {
          "base_uri": "https://localhost:8080/",
          "height": 0
        },
        "id": "j76yU2eK_GNg",
        "outputId": "8a52b714-8700-4233-baaa-3f8cc5b0c961"
      },
      "execution_count": 10,
      "outputs": [
        {
          "output_type": "execute_result",
          "data": {
            "text/plain": [
              "array([[1., 2., 3.],\n",
              "       [4., 5., 6.]])"
            ]
          },
          "metadata": {},
          "execution_count": 10
        }
      ]
    },
    {
      "cell_type": "code",
      "source": [
        "a = np.array([[1. ,2. ,3.], [4. ,5. ,6.]])\n",
        "b = np.array([[2. ,2. ,3.], [4. ,5. ,6.]])\n",
        "c = np.array([[3. ,2. ,3.], [4. ,5. ,6.]])\n",
        "d = np.array([[4. ,2. ,3.], [4. ,5. ,6.]])\n",
        "\n",
        "np.array([[1. ,2. ,3.], [4. ,5. ,6.]])"
      ],
      "metadata": {
        "colab": {
          "base_uri": "https://localhost:8080/",
          "height": 0
        },
        "id": "J0lnsx3Z_JVb",
        "outputId": "0ea2ee0b-046b-4501-f6ed-f377b2b8d1ff"
      },
      "execution_count": 11,
      "outputs": [
        {
          "output_type": "execute_result",
          "data": {
            "text/plain": [
              "array([[1., 2., 3.],\n",
              "       [4., 5., 6.]])"
            ]
          },
          "metadata": {},
          "execution_count": 11
        }
      ]
    },
    {
      "cell_type": "code",
      "source": [
        "a[-1]"
      ],
      "metadata": {
        "colab": {
          "base_uri": "https://localhost:8080/",
          "height": 0
        },
        "id": "JSY_FmCN_RnX",
        "outputId": "bd256595-66c9-4bf7-8888-d2956c5c89c0"
      },
      "execution_count": 12,
      "outputs": [
        {
          "output_type": "execute_result",
          "data": {
            "text/plain": [
              "array([4., 5., 6.])"
            ]
          },
          "metadata": {},
          "execution_count": 12
        }
      ]
    },
    {
      "cell_type": "code",
      "source": [
        "a = np.array([[1, 2, 3, 4, 5], [2, 4, 6, 8, 10]])\n",
        "\n",
        "a[1, 4]"
      ],
      "metadata": {
        "colab": {
          "base_uri": "https://localhost:8080/",
          "height": 0
        },
        "id": "FcM1UoB7_UJd",
        "outputId": "9e0d7e41-9d31-4ba6-ae33-26b0791af02c"
      },
      "execution_count": 17,
      "outputs": [
        {
          "output_type": "execute_result",
          "data": {
            "text/plain": [
              "10"
            ]
          },
          "metadata": {},
          "execution_count": 17
        }
      ]
    },
    {
      "cell_type": "code",
      "source": [
        "a[1]"
      ],
      "metadata": {
        "colab": {
          "base_uri": "https://localhost:8080/",
          "height": 0
        },
        "id": "hMknCB2e_VYx",
        "outputId": "0e75ca4d-256e-434f-e412-43f2a5910cf1"
      },
      "execution_count": 18,
      "outputs": [
        {
          "output_type": "execute_result",
          "data": {
            "text/plain": [
              "array([ 2,  4,  6,  8, 10])"
            ]
          },
          "metadata": {},
          "execution_count": 18
        }
      ]
    },
    {
      "cell_type": "code",
      "source": [
        "a = np.random.rand(6, 10)\n",
        "\n",
        "a"
      ],
      "metadata": {
        "colab": {
          "base_uri": "https://localhost:8080/",
          "height": 0
        },
        "id": "oslwQ7gT_rXl",
        "outputId": "08413173-23fc-4192-9cde-6feb3627f707"
      },
      "execution_count": 32,
      "outputs": [
        {
          "output_type": "execute_result",
          "data": {
            "text/plain": [
              "array([[0.95069923, 0.41075768, 0.48865895, 0.62020024, 0.31661063,\n",
              "        0.69771285, 0.11846411, 0.01474717, 0.82394296, 0.50909523],\n",
              "       [0.52838704, 0.16359355, 0.93645306, 0.32325223, 0.17694689,\n",
              "        0.81792579, 0.41810173, 0.61302443, 0.23678572, 0.65450329],\n",
              "       [0.33842844, 0.28900897, 0.26327879, 0.60366745, 0.36471573,\n",
              "        0.44881662, 0.46687634, 0.26462234, 0.26538041, 0.24312154],\n",
              "       [0.72298958, 0.40681417, 0.24091953, 0.75389511, 0.80451964,\n",
              "        0.63318966, 0.71902374, 0.81543807, 0.85920083, 0.3689083 ],\n",
              "       [0.50707254, 0.76293202, 0.64983414, 0.98571451, 0.30745892,\n",
              "        0.67763991, 0.58369588, 0.44125704, 0.34990973, 0.66295651],\n",
              "       [0.58900333, 0.91395689, 0.29843437, 0.70101837, 0.4279895 ,\n",
              "        0.73616496, 0.11238111, 0.97149603, 0.76906579, 0.19035047]])"
            ]
          },
          "metadata": {},
          "execution_count": 32
        }
      ]
    },
    {
      "cell_type": "code",
      "source": [
        "a[:5]"
      ],
      "metadata": {
        "colab": {
          "base_uri": "https://localhost:8080/",
          "height": 0
        },
        "id": "6sMr-b27AeH4",
        "outputId": "66f5fa5f-af20-4505-aaf7-a6e428dd80a6"
      },
      "execution_count": 33,
      "outputs": [
        {
          "output_type": "execute_result",
          "data": {
            "text/plain": [
              "array([[0.95069923, 0.41075768, 0.48865895, 0.62020024, 0.31661063,\n",
              "        0.69771285, 0.11846411, 0.01474717, 0.82394296, 0.50909523],\n",
              "       [0.52838704, 0.16359355, 0.93645306, 0.32325223, 0.17694689,\n",
              "        0.81792579, 0.41810173, 0.61302443, 0.23678572, 0.65450329],\n",
              "       [0.33842844, 0.28900897, 0.26327879, 0.60366745, 0.36471573,\n",
              "        0.44881662, 0.46687634, 0.26462234, 0.26538041, 0.24312154],\n",
              "       [0.72298958, 0.40681417, 0.24091953, 0.75389511, 0.80451964,\n",
              "        0.63318966, 0.71902374, 0.81543807, 0.85920083, 0.3689083 ],\n",
              "       [0.50707254, 0.76293202, 0.64983414, 0.98571451, 0.30745892,\n",
              "        0.67763991, 0.58369588, 0.44125704, 0.34990973, 0.66295651]])"
            ]
          },
          "metadata": {},
          "execution_count": 33
        }
      ]
    },
    {
      "cell_type": "code",
      "source": [
        "a[-5:]"
      ],
      "metadata": {
        "colab": {
          "base_uri": "https://localhost:8080/",
          "height": 0
        },
        "id": "mQHHLQx6A_bS",
        "outputId": "9dc9b4a8-443d-48c5-f803-62ecdc2abd0a"
      },
      "execution_count": 36,
      "outputs": [
        {
          "output_type": "execute_result",
          "data": {
            "text/plain": [
              "array([[0.52838704, 0.16359355, 0.93645306, 0.32325223, 0.17694689,\n",
              "        0.81792579, 0.41810173, 0.61302443, 0.23678572, 0.65450329],\n",
              "       [0.33842844, 0.28900897, 0.26327879, 0.60366745, 0.36471573,\n",
              "        0.44881662, 0.46687634, 0.26462234, 0.26538041, 0.24312154],\n",
              "       [0.72298958, 0.40681417, 0.24091953, 0.75389511, 0.80451964,\n",
              "        0.63318966, 0.71902374, 0.81543807, 0.85920083, 0.3689083 ],\n",
              "       [0.50707254, 0.76293202, 0.64983414, 0.98571451, 0.30745892,\n",
              "        0.67763991, 0.58369588, 0.44125704, 0.34990973, 0.66295651],\n",
              "       [0.58900333, 0.91395689, 0.29843437, 0.70101837, 0.4279895 ,\n",
              "        0.73616496, 0.11238111, 0.97149603, 0.76906579, 0.19035047]])"
            ]
          },
          "metadata": {},
          "execution_count": 36
        }
      ]
    },
    {
      "cell_type": "code",
      "source": [
        "a[0:3, 4:9]"
      ],
      "metadata": {
        "colab": {
          "base_uri": "https://localhost:8080/",
          "height": 0
        },
        "id": "SuHIgjxsBBZf",
        "outputId": "3facc88d-0306-48fa-bf35-5f43b491469e"
      },
      "execution_count": 35,
      "outputs": [
        {
          "output_type": "execute_result",
          "data": {
            "text/plain": [
              "array([[0.31661063, 0.69771285, 0.11846411, 0.01474717, 0.82394296],\n",
              "       [0.17694689, 0.81792579, 0.41810173, 0.61302443, 0.23678572],\n",
              "       [0.36471573, 0.44881662, 0.46687634, 0.26462234, 0.26538041]])"
            ]
          },
          "metadata": {},
          "execution_count": 35
        }
      ]
    },
    {
      "cell_type": "code",
      "source": [
        "a[np.ix_([1, 3, 4], [0, 2])]"
      ],
      "metadata": {
        "colab": {
          "base_uri": "https://localhost:8080/",
          "height": 0
        },
        "id": "8UChcJ65Cyha",
        "outputId": "8db48be0-6b1a-4148-e460-56fe0ee0c560"
      },
      "execution_count": 39,
      "outputs": [
        {
          "output_type": "execute_result",
          "data": {
            "text/plain": [
              "array([[0.52838704, 0.93645306],\n",
              "       [0.72298958, 0.24091953],\n",
              "       [0.50707254, 0.64983414]])"
            ]
          },
          "metadata": {},
          "execution_count": 39
        }
      ]
    },
    {
      "cell_type": "code",
      "source": [
        "a[2:21:2,:]"
      ],
      "metadata": {
        "colab": {
          "base_uri": "https://localhost:8080/",
          "height": 0
        },
        "id": "DNRW-rjvC_De",
        "outputId": "35a0e2e6-3f07-4af2-f0ef-2711de0603d6"
      },
      "execution_count": 40,
      "outputs": [
        {
          "output_type": "execute_result",
          "data": {
            "text/plain": [
              "array([[0.33842844, 0.28900897, 0.26327879, 0.60366745, 0.36471573,\n",
              "        0.44881662, 0.46687634, 0.26462234, 0.26538041, 0.24312154],\n",
              "       [0.50707254, 0.76293202, 0.64983414, 0.98571451, 0.30745892,\n",
              "        0.67763991, 0.58369588, 0.44125704, 0.34990973, 0.66295651]])"
            ]
          },
          "metadata": {},
          "execution_count": 40
        }
      ]
    },
    {
      "cell_type": "code",
      "source": [
        "a[ ::2,:]"
      ],
      "metadata": {
        "colab": {
          "base_uri": "https://localhost:8080/",
          "height": 0
        },
        "id": "la8b23OEDDa0",
        "outputId": "1feb9373-8968-46a3-d4cd-d76e910624fb"
      },
      "execution_count": 41,
      "outputs": [
        {
          "output_type": "execute_result",
          "data": {
            "text/plain": [
              "array([[0.95069923, 0.41075768, 0.48865895, 0.62020024, 0.31661063,\n",
              "        0.69771285, 0.11846411, 0.01474717, 0.82394296, 0.50909523],\n",
              "       [0.33842844, 0.28900897, 0.26327879, 0.60366745, 0.36471573,\n",
              "        0.44881662, 0.46687634, 0.26462234, 0.26538041, 0.24312154],\n",
              "       [0.50707254, 0.76293202, 0.64983414, 0.98571451, 0.30745892,\n",
              "        0.67763991, 0.58369588, 0.44125704, 0.34990973, 0.66295651]])"
            ]
          },
          "metadata": {},
          "execution_count": 41
        }
      ]
    },
    {
      "cell_type": "code",
      "source": [
        "a[::-1,:]"
      ],
      "metadata": {
        "colab": {
          "base_uri": "https://localhost:8080/",
          "height": 0
        },
        "id": "ltwYGsyODJGn",
        "outputId": "9b421c9f-c732-445b-91d2-370c30762971"
      },
      "execution_count": 42,
      "outputs": [
        {
          "output_type": "execute_result",
          "data": {
            "text/plain": [
              "array([[0.58900333, 0.91395689, 0.29843437, 0.70101837, 0.4279895 ,\n",
              "        0.73616496, 0.11238111, 0.97149603, 0.76906579, 0.19035047],\n",
              "       [0.50707254, 0.76293202, 0.64983414, 0.98571451, 0.30745892,\n",
              "        0.67763991, 0.58369588, 0.44125704, 0.34990973, 0.66295651],\n",
              "       [0.72298958, 0.40681417, 0.24091953, 0.75389511, 0.80451964,\n",
              "        0.63318966, 0.71902374, 0.81543807, 0.85920083, 0.3689083 ],\n",
              "       [0.33842844, 0.28900897, 0.26327879, 0.60366745, 0.36471573,\n",
              "        0.44881662, 0.46687634, 0.26462234, 0.26538041, 0.24312154],\n",
              "       [0.52838704, 0.16359355, 0.93645306, 0.32325223, 0.17694689,\n",
              "        0.81792579, 0.41810173, 0.61302443, 0.23678572, 0.65450329],\n",
              "       [0.95069923, 0.41075768, 0.48865895, 0.62020024, 0.31661063,\n",
              "        0.69771285, 0.11846411, 0.01474717, 0.82394296, 0.50909523]])"
            ]
          },
          "metadata": {},
          "execution_count": 42
        }
      ]
    },
    {
      "cell_type": "code",
      "source": [
        "a[np.r_[:len(a),0]]"
      ],
      "metadata": {
        "colab": {
          "base_uri": "https://localhost:8080/",
          "height": 0
        },
        "id": "LhCovXrsDLZG",
        "outputId": "7dcd1622-f6c6-4a17-aaac-1d9a6475b27b"
      },
      "execution_count": 43,
      "outputs": [
        {
          "output_type": "execute_result",
          "data": {
            "text/plain": [
              "array([[0.95069923, 0.41075768, 0.48865895, 0.62020024, 0.31661063,\n",
              "        0.69771285, 0.11846411, 0.01474717, 0.82394296, 0.50909523],\n",
              "       [0.52838704, 0.16359355, 0.93645306, 0.32325223, 0.17694689,\n",
              "        0.81792579, 0.41810173, 0.61302443, 0.23678572, 0.65450329],\n",
              "       [0.33842844, 0.28900897, 0.26327879, 0.60366745, 0.36471573,\n",
              "        0.44881662, 0.46687634, 0.26462234, 0.26538041, 0.24312154],\n",
              "       [0.72298958, 0.40681417, 0.24091953, 0.75389511, 0.80451964,\n",
              "        0.63318966, 0.71902374, 0.81543807, 0.85920083, 0.3689083 ],\n",
              "       [0.50707254, 0.76293202, 0.64983414, 0.98571451, 0.30745892,\n",
              "        0.67763991, 0.58369588, 0.44125704, 0.34990973, 0.66295651],\n",
              "       [0.58900333, 0.91395689, 0.29843437, 0.70101837, 0.4279895 ,\n",
              "        0.73616496, 0.11238111, 0.97149603, 0.76906579, 0.19035047],\n",
              "       [0.95069923, 0.41075768, 0.48865895, 0.62020024, 0.31661063,\n",
              "        0.69771285, 0.11846411, 0.01474717, 0.82394296, 0.50909523]])"
            ]
          },
          "metadata": {},
          "execution_count": 43
        }
      ]
    },
    {
      "cell_type": "code",
      "source": [
        "a.T"
      ],
      "metadata": {
        "colab": {
          "base_uri": "https://localhost:8080/",
          "height": 0
        },
        "id": "TRZgPzeZDOId",
        "outputId": "e8afb1ab-bf40-486b-dcd7-0015fd70d62d"
      },
      "execution_count": 45,
      "outputs": [
        {
          "output_type": "execute_result",
          "data": {
            "text/plain": [
              "array([[0.95069923, 0.52838704, 0.33842844, 0.72298958, 0.50707254,\n",
              "        0.58900333],\n",
              "       [0.41075768, 0.16359355, 0.28900897, 0.40681417, 0.76293202,\n",
              "        0.91395689],\n",
              "       [0.48865895, 0.93645306, 0.26327879, 0.24091953, 0.64983414,\n",
              "        0.29843437],\n",
              "       [0.62020024, 0.32325223, 0.60366745, 0.75389511, 0.98571451,\n",
              "        0.70101837],\n",
              "       [0.31661063, 0.17694689, 0.36471573, 0.80451964, 0.30745892,\n",
              "        0.4279895 ],\n",
              "       [0.69771285, 0.81792579, 0.44881662, 0.63318966, 0.67763991,\n",
              "        0.73616496],\n",
              "       [0.11846411, 0.41810173, 0.46687634, 0.71902374, 0.58369588,\n",
              "        0.11238111],\n",
              "       [0.01474717, 0.61302443, 0.26462234, 0.81543807, 0.44125704,\n",
              "        0.97149603],\n",
              "       [0.82394296, 0.23678572, 0.26538041, 0.85920083, 0.34990973,\n",
              "        0.76906579],\n",
              "       [0.50909523, 0.65450329, 0.24312154, 0.3689083 , 0.66295651,\n",
              "        0.19035047]])"
            ]
          },
          "metadata": {},
          "execution_count": 45
        }
      ]
    },
    {
      "cell_type": "code",
      "source": [
        "a.conj().T"
      ],
      "metadata": {
        "colab": {
          "base_uri": "https://localhost:8080/",
          "height": 0
        },
        "id": "gIsOPucrDSCg",
        "outputId": "b4487f81-87b4-4e02-be1b-813659b9204c"
      },
      "execution_count": 46,
      "outputs": [
        {
          "output_type": "execute_result",
          "data": {
            "text/plain": [
              "array([[0.95069923, 0.52838704, 0.33842844, 0.72298958, 0.50707254,\n",
              "        0.58900333],\n",
              "       [0.41075768, 0.16359355, 0.28900897, 0.40681417, 0.76293202,\n",
              "        0.91395689],\n",
              "       [0.48865895, 0.93645306, 0.26327879, 0.24091953, 0.64983414,\n",
              "        0.29843437],\n",
              "       [0.62020024, 0.32325223, 0.60366745, 0.75389511, 0.98571451,\n",
              "        0.70101837],\n",
              "       [0.31661063, 0.17694689, 0.36471573, 0.80451964, 0.30745892,\n",
              "        0.4279895 ],\n",
              "       [0.69771285, 0.81792579, 0.44881662, 0.63318966, 0.67763991,\n",
              "        0.73616496],\n",
              "       [0.11846411, 0.41810173, 0.46687634, 0.71902374, 0.58369588,\n",
              "        0.11238111],\n",
              "       [0.01474717, 0.61302443, 0.26462234, 0.81543807, 0.44125704,\n",
              "        0.97149603],\n",
              "       [0.82394296, 0.23678572, 0.26538041, 0.85920083, 0.34990973,\n",
              "        0.76906579],\n",
              "       [0.50909523, 0.65450329, 0.24312154, 0.3689083 , 0.66295651,\n",
              "        0.19035047]])"
            ]
          },
          "metadata": {},
          "execution_count": 46
        }
      ]
    },
    {
      "cell_type": "code",
      "source": [
        "a = np.random.randint(low=0, high=5, size = (2, 2))\n",
        "b = np.random.randint(low=0, high=5, size = (2, 2))\n",
        "\n",
        "print(a)\n",
        "print(b)"
      ],
      "metadata": {
        "colab": {
          "base_uri": "https://localhost:8080/",
          "height": 0
        },
        "id": "P22yi8l9DS0Q",
        "outputId": "b83bddd5-3b6e-484c-cd63-ac9da1cb8477"
      },
      "execution_count": 55,
      "outputs": [
        {
          "output_type": "stream",
          "name": "stdout",
          "text": [
            "[[3 3]\n",
            " [3 1]]\n",
            "[[3 4]\n",
            " [3 2]]\n"
          ]
        }
      ]
    },
    {
      "cell_type": "code",
      "source": [
        "a@b"
      ],
      "metadata": {
        "colab": {
          "base_uri": "https://localhost:8080/",
          "height": 0
        },
        "id": "SzTb48CGD-2u",
        "outputId": "703d7aad-e783-4a5b-d901-7bec8bbec354"
      },
      "execution_count": 57,
      "outputs": [
        {
          "output_type": "execute_result",
          "data": {
            "text/plain": [
              "array([[18, 18],\n",
              "       [12, 14]])"
            ]
          },
          "metadata": {},
          "execution_count": 57
        }
      ]
    },
    {
      "cell_type": "code",
      "source": [
        "a*b"
      ],
      "metadata": {
        "colab": {
          "base_uri": "https://localhost:8080/",
          "height": 0
        },
        "id": "5Y1oI4shEA8h",
        "outputId": "279b7fe4-6598-4742-fae9-f74b2859135c"
      },
      "execution_count": 58,
      "outputs": [
        {
          "output_type": "execute_result",
          "data": {
            "text/plain": [
              "array([[ 9, 12],\n",
              "       [ 9,  2]])"
            ]
          },
          "metadata": {},
          "execution_count": 58
        }
      ]
    },
    {
      "cell_type": "code",
      "source": [
        "a/b"
      ],
      "metadata": {
        "colab": {
          "base_uri": "https://localhost:8080/",
          "height": 0
        },
        "id": "R9_1x4rTECIc",
        "outputId": "59ccba17-ceb6-47bd-d330-50ae69f3d7e7"
      },
      "execution_count": 59,
      "outputs": [
        {
          "output_type": "execute_result",
          "data": {
            "text/plain": [
              "array([[1.  , 0.75],\n",
              "       [1.  , 0.5 ]])"
            ]
          },
          "metadata": {},
          "execution_count": 59
        }
      ]
    },
    {
      "cell_type": "code",
      "source": [
        "a**3"
      ],
      "metadata": {
        "colab": {
          "base_uri": "https://localhost:8080/",
          "height": 0
        },
        "id": "mhepHH0tED4b",
        "outputId": "5bedc89e-84a7-4c38-ac1c-731ad78ef73c"
      },
      "execution_count": 60,
      "outputs": [
        {
          "output_type": "execute_result",
          "data": {
            "text/plain": [
              "array([[27, 27],\n",
              "       [27,  1]])"
            ]
          },
          "metadata": {},
          "execution_count": 60
        }
      ]
    },
    {
      "cell_type": "code",
      "source": [
        "a > 0.5"
      ],
      "metadata": {
        "colab": {
          "base_uri": "https://localhost:8080/",
          "height": 0
        },
        "id": "ZSW7zEyDEHuE",
        "outputId": "04acaf0a-0df8-4967-f653-99fa2ef7fa84"
      },
      "execution_count": 61,
      "outputs": [
        {
          "output_type": "execute_result",
          "data": {
            "text/plain": [
              "array([[ True,  True],\n",
              "       [ True,  True]])"
            ]
          },
          "metadata": {},
          "execution_count": 61
        }
      ]
    },
    {
      "cell_type": "code",
      "source": [
        "np.nonzero(a > 0.5)"
      ],
      "metadata": {
        "colab": {
          "base_uri": "https://localhost:8080/",
          "height": 0
        },
        "id": "1167nB9QEHXz",
        "outputId": "d63ba895-9f7b-43e2-c366-c3a7afb162f2"
      },
      "execution_count": 64,
      "outputs": [
        {
          "output_type": "execute_result",
          "data": {
            "text/plain": [
              "(array([0, 0, 1, 1]), array([0, 1, 0, 1]))"
            ]
          },
          "metadata": {},
          "execution_count": 64
        }
      ]
    },
    {
      "cell_type": "code",
      "source": [
        "a = np.random.rand(5, 5)\n",
        "v = np.asarray([0, 1, 0.5, 1, 0.5])\n",
        "\n",
        "print(a)"
      ],
      "metadata": {
        "colab": {
          "base_uri": "https://localhost:8080/",
          "height": 0
        },
        "id": "KTVB2k6CEVVt",
        "outputId": "3cbbffca-454e-4c53-fb3d-f16ef8d6656d"
      },
      "execution_count": 66,
      "outputs": [
        {
          "output_type": "stream",
          "name": "stdout",
          "text": [
            "[[0.75765443 0.86593171 0.26507003 0.25257705 0.89902656]\n",
            " [0.12402521 0.21450254 0.35330044 0.02609244 0.84519803]\n",
            " [0.97617184 0.73484102 0.03183044 0.95909475 0.64450114]\n",
            " [0.51236307 0.21362919 0.90839932 0.11252498 0.66143677]\n",
            " [0.68005053 0.28786328 0.69409137 0.03104178 0.05888061]]\n"
          ]
        }
      ]
    },
    {
      "cell_type": "code",
      "source": [
        "a[:,np.nonzero(v > 0.5)[0]]"
      ],
      "metadata": {
        "colab": {
          "base_uri": "https://localhost:8080/",
          "height": 0
        },
        "id": "YPVKRpVeEtUv",
        "outputId": "273ae4b4-06ee-48ca-baec-05085e25fe4a"
      },
      "execution_count": 67,
      "outputs": [
        {
          "output_type": "execute_result",
          "data": {
            "text/plain": [
              "array([[0.86593171, 0.25257705],\n",
              "       [0.21450254, 0.02609244],\n",
              "       [0.73484102, 0.95909475],\n",
              "       [0.21362919, 0.11252498],\n",
              "       [0.28786328, 0.03104178]])"
            ]
          },
          "metadata": {},
          "execution_count": 67
        }
      ]
    },
    {
      "cell_type": "code",
      "source": [
        "a[:, v.T > 0.5]"
      ],
      "metadata": {
        "colab": {
          "base_uri": "https://localhost:8080/",
          "height": 0
        },
        "id": "cPlLJiJ9EzS6",
        "outputId": "94874a28-5f90-47a6-ab20-d83ba79481d9"
      },
      "execution_count": 68,
      "outputs": [
        {
          "output_type": "execute_result",
          "data": {
            "text/plain": [
              "array([[0.86593171, 0.25257705],\n",
              "       [0.21450254, 0.02609244],\n",
              "       [0.73484102, 0.95909475],\n",
              "       [0.21362919, 0.11252498],\n",
              "       [0.28786328, 0.03104178]])"
            ]
          },
          "metadata": {},
          "execution_count": 68
        }
      ]
    },
    {
      "cell_type": "code",
      "source": [
        "a[a < 0.5]=0\n",
        "a"
      ],
      "metadata": {
        "colab": {
          "base_uri": "https://localhost:8080/",
          "height": 0
        },
        "id": "7RGyQnAhE1VM",
        "outputId": "521d7a2f-afc2-44f3-b302-6baf07d5e848"
      },
      "execution_count": 70,
      "outputs": [
        {
          "output_type": "execute_result",
          "data": {
            "text/plain": [
              "array([[0.75765443, 0.86593171, 0.        , 0.        , 0.89902656],\n",
              "       [0.        , 0.        , 0.        , 0.        , 0.84519803],\n",
              "       [0.97617184, 0.73484102, 0.        , 0.95909475, 0.64450114],\n",
              "       [0.51236307, 0.        , 0.90839932, 0.        , 0.66143677],\n",
              "       [0.68005053, 0.        , 0.69409137, 0.        , 0.        ]])"
            ]
          },
          "metadata": {},
          "execution_count": 70
        }
      ]
    },
    {
      "cell_type": "code",
      "source": [
        "a * (a > 0.5)\n",
        "a"
      ],
      "metadata": {
        "colab": {
          "base_uri": "https://localhost:8080/",
          "height": 0
        },
        "id": "zgcsel7SE4t5",
        "outputId": "5bafcfa1-13cb-4c60-e7ed-b422d785d54a"
      },
      "execution_count": 71,
      "outputs": [
        {
          "output_type": "execute_result",
          "data": {
            "text/plain": [
              "array([[0.75765443, 0.86593171, 0.        , 0.        , 0.89902656],\n",
              "       [0.        , 0.        , 0.        , 0.        , 0.84519803],\n",
              "       [0.97617184, 0.73484102, 0.        , 0.95909475, 0.64450114],\n",
              "       [0.51236307, 0.        , 0.90839932, 0.        , 0.66143677],\n",
              "       [0.68005053, 0.        , 0.69409137, 0.        , 0.        ]])"
            ]
          },
          "metadata": {},
          "execution_count": 71
        }
      ]
    },
    {
      "cell_type": "code",
      "source": [
        "a[:] = 3\n",
        "a"
      ],
      "metadata": {
        "colab": {
          "base_uri": "https://localhost:8080/",
          "height": 0
        },
        "id": "_UUK7Gy9FDu0",
        "outputId": "deed157c-37bd-4052-80e5-9632ff494175"
      },
      "execution_count": 72,
      "outputs": [
        {
          "output_type": "execute_result",
          "data": {
            "text/plain": [
              "array([[3., 3., 3., 3., 3.],\n",
              "       [3., 3., 3., 3., 3.],\n",
              "       [3., 3., 3., 3., 3.],\n",
              "       [3., 3., 3., 3., 3.],\n",
              "       [3., 3., 3., 3., 3.]])"
            ]
          },
          "metadata": {},
          "execution_count": 72
        }
      ]
    },
    {
      "cell_type": "code",
      "source": [
        "x = np.random.rand(3, 3)\n",
        "y = x.copy()\n",
        "y"
      ],
      "metadata": {
        "colab": {
          "base_uri": "https://localhost:8080/",
          "height": 0
        },
        "id": "Y6Ud7qZrFF6F",
        "outputId": "2ad45a6a-e594-428f-a4e9-1001f0e5cccb"
      },
      "execution_count": 89,
      "outputs": [
        {
          "output_type": "execute_result",
          "data": {
            "text/plain": [
              "array([[0.4514127 , 0.99234389, 0.87577318],\n",
              "       [0.33985288, 0.97689215, 0.84746136],\n",
              "       [0.34630321, 0.17046962, 0.16508755]])"
            ]
          },
          "metadata": {},
          "execution_count": 89
        }
      ]
    },
    {
      "cell_type": "code",
      "source": [
        "x = np.random.randint(low=0, high=10, size = (5, 5))\n",
        "y = x.copy()\n",
        "y"
      ],
      "metadata": {
        "colab": {
          "base_uri": "https://localhost:8080/",
          "height": 0
        },
        "id": "t7kMzbVEFH3i",
        "outputId": "2e225e76-cc48-4142-cf2f-a81427e13198"
      },
      "execution_count": 90,
      "outputs": [
        {
          "output_type": "execute_result",
          "data": {
            "text/plain": [
              "array([[4, 1, 5, 7, 3],\n",
              "       [0, 9, 9, 1, 9],\n",
              "       [1, 1, 3, 9, 8],\n",
              "       [7, 7, 1, 9, 3],\n",
              "       [9, 7, 1, 2, 4]])"
            ]
          },
          "metadata": {},
          "execution_count": 90
        }
      ]
    },
    {
      "cell_type": "code",
      "source": [
        "y = x[1, :].copy()\n",
        "y"
      ],
      "metadata": {
        "colab": {
          "base_uri": "https://localhost:8080/",
          "height": 0
        },
        "id": "J3D6MIKJFYuj",
        "outputId": "84d47957-3ed7-40b3-b200-c216e2150dc4"
      },
      "execution_count": 91,
      "outputs": [
        {
          "output_type": "execute_result",
          "data": {
            "text/plain": [
              "array([0, 9, 9, 1, 9])"
            ]
          },
          "metadata": {},
          "execution_count": 91
        }
      ]
    },
    {
      "cell_type": "code",
      "source": [
        "y = x.flatten()\n",
        "y"
      ],
      "metadata": {
        "colab": {
          "base_uri": "https://localhost:8080/",
          "height": 0
        },
        "id": "0hdlI5nRFbGt",
        "outputId": "d4b6efa0-a834-44a4-f375-ffac0bd28cd8"
      },
      "execution_count": 92,
      "outputs": [
        {
          "output_type": "execute_result",
          "data": {
            "text/plain": [
              "array([4, 1, 5, 7, 3, 0, 9, 9, 1, 9, 1, 1, 3, 9, 8, 7, 7, 1, 9, 3, 9, 7,\n",
              "       1, 2, 4])"
            ]
          },
          "metadata": {},
          "execution_count": 92
        }
      ]
    },
    {
      "cell_type": "code",
      "source": [
        "np.arange(1., 11.) "
      ],
      "metadata": {
        "colab": {
          "base_uri": "https://localhost:8080/",
          "height": 0
        },
        "id": "oU-4jhCVFhNH",
        "outputId": "0372615c-8ffd-41ff-86ac-3c1569135709"
      },
      "execution_count": 93,
      "outputs": [
        {
          "output_type": "execute_result",
          "data": {
            "text/plain": [
              "array([ 1.,  2.,  3.,  4.,  5.,  6.,  7.,  8.,  9., 10.])"
            ]
          },
          "metadata": {},
          "execution_count": 93
        }
      ]
    },
    {
      "cell_type": "code",
      "source": [
        "np.arange(10.)"
      ],
      "metadata": {
        "colab": {
          "base_uri": "https://localhost:8080/",
          "height": 0
        },
        "id": "A1h70gUaFq6t",
        "outputId": "25b48800-30ec-48e7-c71f-f47ddff1cf26"
      },
      "execution_count": 94,
      "outputs": [
        {
          "output_type": "execute_result",
          "data": {
            "text/plain": [
              "array([0., 1., 2., 3., 4., 5., 6., 7., 8., 9.])"
            ]
          },
          "metadata": {},
          "execution_count": 94
        }
      ]
    },
    {
      "cell_type": "code",
      "source": [
        "np.arange(1.,11.)[:, np.newaxis]"
      ],
      "metadata": {
        "colab": {
          "base_uri": "https://localhost:8080/",
          "height": 0
        },
        "id": "A2yGEVBIFtnh",
        "outputId": "e871b96c-ba5f-4239-8fb7-5e6c7efdae97"
      },
      "execution_count": 95,
      "outputs": [
        {
          "output_type": "execute_result",
          "data": {
            "text/plain": [
              "array([[ 1.],\n",
              "       [ 2.],\n",
              "       [ 3.],\n",
              "       [ 4.],\n",
              "       [ 5.],\n",
              "       [ 6.],\n",
              "       [ 7.],\n",
              "       [ 8.],\n",
              "       [ 9.],\n",
              "       [10.]])"
            ]
          },
          "metadata": {},
          "execution_count": 95
        }
      ]
    },
    {
      "cell_type": "code",
      "source": [
        "np.zeros((3, 4))"
      ],
      "metadata": {
        "colab": {
          "base_uri": "https://localhost:8080/",
          "height": 0
        },
        "id": "Q0rZpcCjFvyO",
        "outputId": "c079c789-93c2-42fb-8785-c2b88752c858"
      },
      "execution_count": 96,
      "outputs": [
        {
          "output_type": "execute_result",
          "data": {
            "text/plain": [
              "array([[0., 0., 0., 0.],\n",
              "       [0., 0., 0., 0.],\n",
              "       [0., 0., 0., 0.]])"
            ]
          },
          "metadata": {},
          "execution_count": 96
        }
      ]
    },
    {
      "cell_type": "code",
      "source": [
        "np.zeros((3, 4, 5))"
      ],
      "metadata": {
        "colab": {
          "base_uri": "https://localhost:8080/",
          "height": 0
        },
        "id": "fdLtr4ZtFyFo",
        "outputId": "7e9e3213-d440-4bc6-fab4-be7d27a48ba5"
      },
      "execution_count": 97,
      "outputs": [
        {
          "output_type": "execute_result",
          "data": {
            "text/plain": [
              "array([[[0., 0., 0., 0., 0.],\n",
              "        [0., 0., 0., 0., 0.],\n",
              "        [0., 0., 0., 0., 0.],\n",
              "        [0., 0., 0., 0., 0.]],\n",
              "\n",
              "       [[0., 0., 0., 0., 0.],\n",
              "        [0., 0., 0., 0., 0.],\n",
              "        [0., 0., 0., 0., 0.],\n",
              "        [0., 0., 0., 0., 0.]],\n",
              "\n",
              "       [[0., 0., 0., 0., 0.],\n",
              "        [0., 0., 0., 0., 0.],\n",
              "        [0., 0., 0., 0., 0.],\n",
              "        [0., 0., 0., 0., 0.]]])"
            ]
          },
          "metadata": {},
          "execution_count": 97
        }
      ]
    },
    {
      "cell_type": "code",
      "source": [
        "np.ones((3, 4))"
      ],
      "metadata": {
        "colab": {
          "base_uri": "https://localhost:8080/",
          "height": 0
        },
        "id": "7yR0BIf0FzI5",
        "outputId": "b45fb61b-492b-4e63-d28f-4a0594abe7c2"
      },
      "execution_count": 98,
      "outputs": [
        {
          "output_type": "execute_result",
          "data": {
            "text/plain": [
              "array([[1., 1., 1., 1.],\n",
              "       [1., 1., 1., 1.],\n",
              "       [1., 1., 1., 1.]])"
            ]
          },
          "metadata": {},
          "execution_count": 98
        }
      ]
    },
    {
      "cell_type": "code",
      "source": [
        "np.eye(3)"
      ],
      "metadata": {
        "colab": {
          "base_uri": "https://localhost:8080/",
          "height": 0
        },
        "id": "A8RTfp0DF0Rj",
        "outputId": "2dfe9a7a-6298-4949-bdaa-fce552a88160"
      },
      "execution_count": 99,
      "outputs": [
        {
          "output_type": "execute_result",
          "data": {
            "text/plain": [
              "array([[1., 0., 0.],\n",
              "       [0., 1., 0.],\n",
              "       [0., 0., 1.]])"
            ]
          },
          "metadata": {},
          "execution_count": 99
        }
      ]
    },
    {
      "cell_type": "code",
      "source": [
        "a = np.random.randint(low=0, high=10, size = (5, 5))\n",
        "print(a)\n",
        "np.diag(a)"
      ],
      "metadata": {
        "colab": {
          "base_uri": "https://localhost:8080/",
          "height": 0
        },
        "id": "UYWLGjoPF1nl",
        "outputId": "b2eb33b9-223b-4a83-ff17-b9c78d4c6f46"
      },
      "execution_count": 101,
      "outputs": [
        {
          "output_type": "stream",
          "name": "stdout",
          "text": [
            "[[6 1 3 8 3]\n",
            " [5 1 1 6 1]\n",
            " [8 7 5 5 4]\n",
            " [6 4 8 0 7]\n",
            " [1 1 9 3 6]]\n"
          ]
        },
        {
          "output_type": "execute_result",
          "data": {
            "text/plain": [
              "array([6, 1, 5, 0, 6])"
            ]
          },
          "metadata": {},
          "execution_count": 101
        }
      ]
    },
    {
      "cell_type": "code",
      "source": [
        "print(v)\n",
        "np.diag(v, 0)"
      ],
      "metadata": {
        "colab": {
          "base_uri": "https://localhost:8080/",
          "height": 0
        },
        "id": "HhSFD7P4F8HW",
        "outputId": "a75c9f1b-e6df-4762-b76e-9d26ca91826f"
      },
      "execution_count": 103,
      "outputs": [
        {
          "output_type": "stream",
          "name": "stdout",
          "text": [
            "[0.  1.  0.5 1.  0.5]\n"
          ]
        },
        {
          "output_type": "execute_result",
          "data": {
            "text/plain": [
              "array([[0. , 0. , 0. , 0. , 0. ],\n",
              "       [0. , 1. , 0. , 0. , 0. ],\n",
              "       [0. , 0. , 0.5, 0. , 0. ],\n",
              "       [0. , 0. , 0. , 1. , 0. ],\n",
              "       [0. , 0. , 0. , 0. , 0.5]])"
            ]
          },
          "metadata": {},
          "execution_count": 103
        }
      ]
    },
    {
      "cell_type": "code",
      "source": [
        "from numpy.random import default_rng\n",
        "rng = default_rng(42)\n",
        "rng.random((3, 4))"
      ],
      "metadata": {
        "colab": {
          "base_uri": "https://localhost:8080/",
          "height": 0
        },
        "id": "EzMcNfLtGMfS",
        "outputId": "290f3c55-8bf6-4edf-cfd3-56989aac97ff"
      },
      "execution_count": 107,
      "outputs": [
        {
          "output_type": "execute_result",
          "data": {
            "text/plain": [
              "array([[0.77395605, 0.43887844, 0.85859792, 0.69736803],\n",
              "       [0.09417735, 0.97562235, 0.7611397 , 0.78606431],\n",
              "       [0.12811363, 0.45038594, 0.37079802, 0.92676499]])"
            ]
          },
          "metadata": {},
          "execution_count": 107
        }
      ]
    },
    {
      "cell_type": "code",
      "source": [
        "np.linspace(1,3,4)"
      ],
      "metadata": {
        "colab": {
          "base_uri": "https://localhost:8080/",
          "height": 0
        },
        "id": "LWh1GSNoI_dS",
        "outputId": "e38b767c-aad9-4c8d-cb1e-a29a1960ee79"
      },
      "execution_count": 108,
      "outputs": [
        {
          "output_type": "execute_result",
          "data": {
            "text/plain": [
              "array([1.        , 1.66666667, 2.33333333, 3.        ])"
            ]
          },
          "metadata": {},
          "execution_count": 108
        }
      ]
    },
    {
      "cell_type": "code",
      "source": [
        "np.mgrid[0:9.,0:6.]"
      ],
      "metadata": {
        "colab": {
          "base_uri": "https://localhost:8080/",
          "height": 0
        },
        "id": "ADzO596RJCrR",
        "outputId": "191d6000-730c-4440-86a8-56f05306a6cd"
      },
      "execution_count": 109,
      "outputs": [
        {
          "output_type": "execute_result",
          "data": {
            "text/plain": [
              "array([[[0., 0., 0., 0., 0., 0.],\n",
              "        [1., 1., 1., 1., 1., 1.],\n",
              "        [2., 2., 2., 2., 2., 2.],\n",
              "        [3., 3., 3., 3., 3., 3.],\n",
              "        [4., 4., 4., 4., 4., 4.],\n",
              "        [5., 5., 5., 5., 5., 5.],\n",
              "        [6., 6., 6., 6., 6., 6.],\n",
              "        [7., 7., 7., 7., 7., 7.],\n",
              "        [8., 8., 8., 8., 8., 8.]],\n",
              "\n",
              "       [[0., 1., 2., 3., 4., 5.],\n",
              "        [0., 1., 2., 3., 4., 5.],\n",
              "        [0., 1., 2., 3., 4., 5.],\n",
              "        [0., 1., 2., 3., 4., 5.],\n",
              "        [0., 1., 2., 3., 4., 5.],\n",
              "        [0., 1., 2., 3., 4., 5.],\n",
              "        [0., 1., 2., 3., 4., 5.],\n",
              "        [0., 1., 2., 3., 4., 5.],\n",
              "        [0., 1., 2., 3., 4., 5.]]])"
            ]
          },
          "metadata": {},
          "execution_count": 109
        }
      ]
    },
    {
      "cell_type": "code",
      "source": [
        "np.ogrid[0:9.,0:6.]"
      ],
      "metadata": {
        "colab": {
          "base_uri": "https://localhost:8080/",
          "height": 0
        },
        "id": "9oDOpIsvJRGv",
        "outputId": "18e68f56-be8c-4e5d-f029-6718dee94335"
      },
      "execution_count": 111,
      "outputs": [
        {
          "output_type": "execute_result",
          "data": {
            "text/plain": [
              "[array([[0.],\n",
              "        [1.],\n",
              "        [2.],\n",
              "        [3.],\n",
              "        [4.],\n",
              "        [5.],\n",
              "        [6.],\n",
              "        [7.],\n",
              "        [8.]]), array([[0., 1., 2., 3., 4., 5.]])]"
            ]
          },
          "metadata": {},
          "execution_count": 111
        }
      ]
    },
    {
      "cell_type": "code",
      "source": [
        "np.meshgrid([1,2,4],[2,4,5])"
      ],
      "metadata": {
        "colab": {
          "base_uri": "https://localhost:8080/",
          "height": 0
        },
        "id": "3kVG6cxbJVRO",
        "outputId": "b431b897-e5e0-4d94-d0d0-4634dfc8f8a9"
      },
      "execution_count": 112,
      "outputs": [
        {
          "output_type": "execute_result",
          "data": {
            "text/plain": [
              "[array([[1, 2, 4],\n",
              "        [1, 2, 4],\n",
              "        [1, 2, 4]]), array([[2, 2, 2],\n",
              "        [4, 4, 4],\n",
              "        [5, 5, 5]])]"
            ]
          },
          "metadata": {},
          "execution_count": 112
        }
      ]
    },
    {
      "cell_type": "code",
      "source": [
        "a = np.random.randint(low=0, high=10, size = (2, 2))\n",
        "print(a)\n",
        "np.tile(a, (3, 2))"
      ],
      "metadata": {
        "colab": {
          "base_uri": "https://localhost:8080/",
          "height": 0
        },
        "id": "IE9gmydiJfic",
        "outputId": "b66b2a5a-5789-4be0-c3f2-dbf2fc3d6c26"
      },
      "execution_count": 116,
      "outputs": [
        {
          "output_type": "stream",
          "name": "stdout",
          "text": [
            "[[7 1]\n",
            " [3 6]]\n"
          ]
        },
        {
          "output_type": "execute_result",
          "data": {
            "text/plain": [
              "array([[7, 1, 7, 1],\n",
              "       [3, 6, 3, 6],\n",
              "       [7, 1, 7, 1],\n",
              "       [3, 6, 3, 6],\n",
              "       [7, 1, 7, 1],\n",
              "       [3, 6, 3, 6]])"
            ]
          },
          "metadata": {},
          "execution_count": 116
        }
      ]
    },
    {
      "cell_type": "code",
      "source": [
        "print(b)\n",
        "np.hstack((a,b))"
      ],
      "metadata": {
        "colab": {
          "base_uri": "https://localhost:8080/",
          "height": 0
        },
        "id": "pmh5uwO0JrK9",
        "outputId": "db374caf-d82b-4ca0-831f-6a1b0d3b12c9"
      },
      "execution_count": 119,
      "outputs": [
        {
          "output_type": "stream",
          "name": "stdout",
          "text": [
            "[[3 4]\n",
            " [3 2]]\n"
          ]
        },
        {
          "output_type": "execute_result",
          "data": {
            "text/plain": [
              "array([[7, 1, 3, 4],\n",
              "       [3, 6, 3, 2]])"
            ]
          },
          "metadata": {},
          "execution_count": 119
        }
      ]
    },
    {
      "cell_type": "code",
      "source": [
        "np.vstack((a,b))"
      ],
      "metadata": {
        "colab": {
          "base_uri": "https://localhost:8080/",
          "height": 0
        },
        "id": "cmhgJNuVJwl8",
        "outputId": "43e4390e-c5c3-43c9-aaa0-6fefd2c7800e"
      },
      "execution_count": 120,
      "outputs": [
        {
          "output_type": "execute_result",
          "data": {
            "text/plain": [
              "array([[7, 1],\n",
              "       [3, 6],\n",
              "       [3, 4],\n",
              "       [3, 2]])"
            ]
          },
          "metadata": {},
          "execution_count": 120
        }
      ]
    },
    {
      "cell_type": "code",
      "source": [
        "a.max() "
      ],
      "metadata": {
        "colab": {
          "base_uri": "https://localhost:8080/",
          "height": 0
        },
        "id": "g8R3BaN5J2nP",
        "outputId": "06ee33e0-19cf-4c7b-a31b-380c978ceb93"
      },
      "execution_count": 122,
      "outputs": [
        {
          "output_type": "execute_result",
          "data": {
            "text/plain": [
              "7"
            ]
          },
          "metadata": {},
          "execution_count": 122
        }
      ]
    },
    {
      "cell_type": "code",
      "source": [
        "a.max(0)"
      ],
      "metadata": {
        "colab": {
          "base_uri": "https://localhost:8080/",
          "height": 0
        },
        "id": "VV9Lnp7lJ3qw",
        "outputId": "f4905d27-063d-43f7-83b2-0d0ca8114648"
      },
      "execution_count": 123,
      "outputs": [
        {
          "output_type": "execute_result",
          "data": {
            "text/plain": [
              "array([7, 6])"
            ]
          },
          "metadata": {},
          "execution_count": 123
        }
      ]
    },
    {
      "cell_type": "code",
      "source": [
        "np.maximum(a, b)"
      ],
      "metadata": {
        "colab": {
          "base_uri": "https://localhost:8080/",
          "height": 0
        },
        "id": "T3K5s7lZJ47Y",
        "outputId": "3f70626b-5d77-4026-963e-fc6808e5601b"
      },
      "execution_count": 124,
      "outputs": [
        {
          "output_type": "execute_result",
          "data": {
            "text/plain": [
              "array([[7, 4],\n",
              "       [3, 6]])"
            ]
          },
          "metadata": {},
          "execution_count": 124
        }
      ]
    },
    {
      "cell_type": "code",
      "source": [
        "np.linalg.norm(v)"
      ],
      "metadata": {
        "colab": {
          "base_uri": "https://localhost:8080/",
          "height": 0
        },
        "id": "iee7gXm8J94Q",
        "outputId": "349889a1-bd55-407d-d971-63fd61c86348"
      },
      "execution_count": 125,
      "outputs": [
        {
          "output_type": "execute_result",
          "data": {
            "text/plain": [
              "1.5811388300841898"
            ]
          },
          "metadata": {},
          "execution_count": 125
        }
      ]
    },
    {
      "cell_type": "code",
      "source": [
        "np.logical_and(a,b)"
      ],
      "metadata": {
        "colab": {
          "base_uri": "https://localhost:8080/",
          "height": 0
        },
        "id": "a39WnJhqKAiu",
        "outputId": "29583aa3-0f94-4699-821a-e5a54450a521"
      },
      "execution_count": 127,
      "outputs": [
        {
          "output_type": "execute_result",
          "data": {
            "text/plain": [
              "array([[ True,  True],\n",
              "       [ True,  True]])"
            ]
          },
          "metadata": {},
          "execution_count": 127
        }
      ]
    },
    {
      "cell_type": "code",
      "source": [
        "np.logical_or(a,b)"
      ],
      "metadata": {
        "colab": {
          "base_uri": "https://localhost:8080/",
          "height": 0
        },
        "id": "uAX9qkl9KDGe",
        "outputId": "6daf5d3f-27a9-4cda-c26d-586931801bba"
      },
      "execution_count": 128,
      "outputs": [
        {
          "output_type": "execute_result",
          "data": {
            "text/plain": [
              "array([[ True,  True],\n",
              "       [ True,  True]])"
            ]
          },
          "metadata": {},
          "execution_count": 128
        }
      ]
    },
    {
      "cell_type": "code",
      "source": [
        "a & b"
      ],
      "metadata": {
        "colab": {
          "base_uri": "https://localhost:8080/",
          "height": 0
        },
        "id": "uEDpEogaKFR8",
        "outputId": "862a4574-dc5c-41dc-81c3-fb93b2b659d5"
      },
      "execution_count": 129,
      "outputs": [
        {
          "output_type": "execute_result",
          "data": {
            "text/plain": [
              "array([[3, 0],\n",
              "       [3, 2]])"
            ]
          },
          "metadata": {},
          "execution_count": 129
        }
      ]
    },
    {
      "cell_type": "code",
      "source": [
        "a | b"
      ],
      "metadata": {
        "colab": {
          "base_uri": "https://localhost:8080/",
          "height": 0
        },
        "id": "JuGPYvRyKG75",
        "outputId": "ca5c8a3d-57e0-4f0b-ef63-77bab1937ed5"
      },
      "execution_count": 130,
      "outputs": [
        {
          "output_type": "execute_result",
          "data": {
            "text/plain": [
              "array([[7, 5],\n",
              "       [3, 6]])"
            ]
          },
          "metadata": {},
          "execution_count": 130
        }
      ]
    },
    {
      "cell_type": "code",
      "source": [
        "np.linalg.inv(a)"
      ],
      "metadata": {
        "colab": {
          "base_uri": "https://localhost:8080/",
          "height": 0
        },
        "id": "F5pX9kH-KIJ9",
        "outputId": "89525118-87a7-47f8-86e0-f7c1e9a51b52"
      },
      "execution_count": 132,
      "outputs": [
        {
          "output_type": "execute_result",
          "data": {
            "text/plain": [
              "array([[ 0.15384615, -0.02564103],\n",
              "       [-0.07692308,  0.17948718]])"
            ]
          },
          "metadata": {},
          "execution_count": 132
        }
      ]
    },
    {
      "cell_type": "code",
      "source": [
        "np.linalg.pinv(a)"
      ],
      "metadata": {
        "colab": {
          "base_uri": "https://localhost:8080/",
          "height": 0
        },
        "id": "tGeg3EV_KKfx",
        "outputId": "3bd6ba13-cc4b-4fc7-b5ed-edaf058580ab"
      },
      "execution_count": 134,
      "outputs": [
        {
          "output_type": "execute_result",
          "data": {
            "text/plain": [
              "array([[ 0.15384615, -0.02564103],\n",
              "       [-0.07692308,  0.17948718]])"
            ]
          },
          "metadata": {},
          "execution_count": 134
        }
      ]
    },
    {
      "cell_type": "code",
      "source": [
        "np.linalg.matrix_rank(a)"
      ],
      "metadata": {
        "colab": {
          "base_uri": "https://localhost:8080/",
          "height": 0
        },
        "id": "Urn5M5EUKNt-",
        "outputId": "4ebf80d0-36d6-4958-99ae-6896221302d0"
      },
      "execution_count": 135,
      "outputs": [
        {
          "output_type": "execute_result",
          "data": {
            "text/plain": [
              "2"
            ]
          },
          "metadata": {},
          "execution_count": 135
        }
      ]
    },
    {
      "cell_type": "code",
      "source": [
        "np.linalg.solve(a, b)"
      ],
      "metadata": {
        "colab": {
          "base_uri": "https://localhost:8080/",
          "height": 0
        },
        "id": "Y3cn4tSgKTOh",
        "outputId": "adc76c32-2f7a-4296-9a5a-01926598b69a"
      },
      "execution_count": 138,
      "outputs": [
        {
          "output_type": "execute_result",
          "data": {
            "text/plain": [
              "array([[0.38461538, 0.56410256],\n",
              "       [0.30769231, 0.05128205]])"
            ]
          },
          "metadata": {},
          "execution_count": 138
        }
      ]
    },
    {
      "cell_type": "code",
      "source": [
        "U, S, Vh = np.linalg.svd(a)\n",
        "U, S, Vh"
      ],
      "metadata": {
        "colab": {
          "base_uri": "https://localhost:8080/",
          "height": 0
        },
        "id": "ecPk3AAaKTwe",
        "outputId": "d9f5dd93-43a7-4647-84c4-b9c009f50984"
      },
      "execution_count": 142,
      "outputs": [
        {
          "output_type": "execute_result",
          "data": {
            "text/plain": [
              "(array([[-0.73898519, -0.67372167],\n",
              "        [-0.67372167,  0.73898519]]),\n",
              " array([8.63802603, 4.51492041]),\n",
              " array([[-0.83283626, -0.55351943],\n",
              "        [-0.55351943,  0.83283626]]))"
            ]
          },
          "metadata": {},
          "execution_count": 142
        }
      ]
    },
    {
      "cell_type": "code",
      "source": [
        "np.linalg.cholesky(a)"
      ],
      "metadata": {
        "colab": {
          "base_uri": "https://localhost:8080/",
          "height": 0
        },
        "id": "Nc97KHHDKpDI",
        "outputId": "1d05d89d-606c-4836-a27d-52a6cd55c557"
      },
      "execution_count": 144,
      "outputs": [
        {
          "output_type": "execute_result",
          "data": {
            "text/plain": [
              "array([[2.64575131, 0.        ],\n",
              "       [1.13389342, 2.17124059]])"
            ]
          },
          "metadata": {},
          "execution_count": 144
        }
      ]
    },
    {
      "cell_type": "code",
      "source": [
        "np.linalg.eig(a)"
      ],
      "metadata": {
        "colab": {
          "base_uri": "https://localhost:8080/",
          "height": 0
        },
        "id": "-VY-Bi-DKutf",
        "outputId": "cb33bd8a-d741-49c0-b857-e4a7d24fdb67"
      },
      "execution_count": 145,
      "outputs": [
        {
          "output_type": "execute_result",
          "data": {
            "text/plain": [
              "(array([8.30277564, 4.69722436]), array([[ 0.60889368, -0.3983218 ],\n",
              "        [ 0.79325185,  0.91724574]]))"
            ]
          },
          "metadata": {},
          "execution_count": 145
        }
      ]
    },
    {
      "cell_type": "code",
      "source": [
        "np.linalg.eig((a, b))"
      ],
      "metadata": {
        "colab": {
          "base_uri": "https://localhost:8080/",
          "height": 0
        },
        "id": "GDFGhI54KxAO",
        "outputId": "73b8d2ca-d528-4209-8a6a-8bf9789e5614"
      },
      "execution_count": 147,
      "outputs": [
        {
          "output_type": "execute_result",
          "data": {
            "text/plain": [
              "(array([[ 8.30277564,  4.69722436],\n",
              "        [ 6.        , -1.        ]]), array([[[ 0.60889368, -0.3983218 ],\n",
              "         [ 0.79325185,  0.91724574]],\n",
              " \n",
              "        [[ 0.8       , -0.70710678],\n",
              "         [ 0.6       ,  0.70710678]]]))"
            ]
          },
          "metadata": {},
          "execution_count": 147
        }
      ]
    },
    {
      "cell_type": "code",
      "source": [
        "from scipy.sparse.linalg import eigs\n",
        "eigs(a, k = 3)"
      ],
      "metadata": {
        "colab": {
          "base_uri": "https://localhost:8080/",
          "height": 0
        },
        "id": "dmCxF8iEK3gO",
        "outputId": "2bfafc4d-dbe4-4553-bcc2-c1fd1f0fbe41"
      },
      "execution_count": 151,
      "outputs": [
        {
          "output_type": "stream",
          "name": "stderr",
          "text": [
            "/usr/local/lib/python3.7/dist-packages/scipy/sparse/linalg/eigen/arpack/arpack.py:1268: RuntimeWarning: k >= N - 1 for N * N square matrix. Attempting to use scipy.linalg.eig instead.\n",
            "  RuntimeWarning)\n"
          ]
        },
        {
          "output_type": "execute_result",
          "data": {
            "text/plain": [
              "(array([8.30277564+0.j, 4.69722436+0.j]), array([[ 0.60889368, -0.3983218 ],\n",
              "        [ 0.79325185,  0.91724574]]))"
            ]
          },
          "metadata": {},
          "execution_count": 151
        }
      ]
    },
    {
      "cell_type": "code",
      "source": [
        "np.linalg.qr(a)"
      ],
      "metadata": {
        "colab": {
          "base_uri": "https://localhost:8080/",
          "height": 0
        },
        "id": "0a_9h8I_LR6G",
        "outputId": "fcdcb395-6c79-4287-8b94-788f5198ca9b"
      },
      "execution_count": 152,
      "outputs": [
        {
          "output_type": "execute_result",
          "data": {
            "text/plain": [
              "(array([[-0.91914503, -0.3939193 ],\n",
              "        [-0.3939193 ,  0.91914503]]), array([[-7.61577311, -3.28266082],\n",
              "        [ 0.        ,  5.12095088]]))"
            ]
          },
          "metadata": {},
          "execution_count": 152
        }
      ]
    },
    {
      "cell_type": "code",
      "source": [
        "from scipy.linalg import lu\n",
        "lu(a)"
      ],
      "metadata": {
        "colab": {
          "base_uri": "https://localhost:8080/",
          "height": 0
        },
        "id": "bS1l3k3dLTsu",
        "outputId": "21f301af-27c5-45ca-9148-10751595fe4c"
      },
      "execution_count": 156,
      "outputs": [
        {
          "output_type": "execute_result",
          "data": {
            "text/plain": [
              "(array([[1., 0.],\n",
              "        [0., 1.]]), array([[1.        , 0.        ],\n",
              "        [0.42857143, 1.        ]]), array([[7.        , 1.        ],\n",
              "        [0.        , 5.57142857]]))"
            ]
          },
          "metadata": {},
          "execution_count": 156
        }
      ]
    },
    {
      "cell_type": "code",
      "source": [
        "from scipy.sparse import csc_matrix\n",
        "from scipy.sparse.linalg import cg\n",
        "\n",
        "P = np.array([[4, 0, 1, 0],\n",
        "                [0, 5, 0, 0],\n",
        "                [1, 0, 3, 2],\n",
        "                [0, 0, 2, 4]])\n",
        "A = csc_matrix(P)\n",
        "b = np.array([-1, -0.5, -1, 2])\n",
        "\n",
        "cg(A, b)"
      ],
      "metadata": {
        "colab": {
          "base_uri": "https://localhost:8080/",
          "height": 0
        },
        "id": "4OZsNoKYLV0a",
        "outputId": "7374113d-8ea4-4d64-f4d0-23f62a5709e2"
      },
      "execution_count": 159,
      "outputs": [
        {
          "output_type": "execute_result",
          "data": {
            "text/plain": [
              "(array([ 5.03611909e-17, -1.00000000e-01, -1.00000000e+00,  1.00000000e+00]),\n",
              " 0)"
            ]
          },
          "metadata": {},
          "execution_count": 159
        }
      ]
    },
    {
      "cell_type": "code",
      "source": [
        "np.fft.fft(a)"
      ],
      "metadata": {
        "colab": {
          "base_uri": "https://localhost:8080/",
          "height": 0
        },
        "id": "JHwIRAr2L8yD",
        "outputId": "c3ecf1b9-ccf4-4b7e-c820-ccc44b1ff150"
      },
      "execution_count": 162,
      "outputs": [
        {
          "output_type": "execute_result",
          "data": {
            "text/plain": [
              "array([[ 8.+0.j,  6.+0.j],\n",
              "       [ 9.+0.j, -3.+0.j]])"
            ]
          },
          "metadata": {},
          "execution_count": 162
        }
      ]
    },
    {
      "cell_type": "code",
      "source": [
        "np.fft.ifft(a)"
      ],
      "metadata": {
        "colab": {
          "base_uri": "https://localhost:8080/",
          "height": 0
        },
        "id": "Ob9_LqIVMRgl",
        "outputId": "fa446c3f-7f24-4353-c125-cc8af94452b2"
      },
      "execution_count": 163,
      "outputs": [
        {
          "output_type": "execute_result",
          "data": {
            "text/plain": [
              "array([[ 4. +0.j,  3. +0.j],\n",
              "       [ 4.5+0.j, -1.5+0.j]])"
            ]
          },
          "metadata": {},
          "execution_count": 163
        }
      ]
    },
    {
      "cell_type": "code",
      "source": [
        " np.sort(a) "
      ],
      "metadata": {
        "colab": {
          "base_uri": "https://localhost:8080/",
          "height": 0
        },
        "id": "p0xwiLJ9MT_C",
        "outputId": "9ea4214a-3844-439b-dabc-136c1084c7e7"
      },
      "execution_count": 164,
      "outputs": [
        {
          "output_type": "execute_result",
          "data": {
            "text/plain": [
              "array([[1, 7],\n",
              "       [3, 6]])"
            ]
          },
          "metadata": {},
          "execution_count": 164
        }
      ]
    },
    {
      "cell_type": "code",
      "source": [
        "a.T\n",
        "np.sort(a, axis = 1) "
      ],
      "metadata": {
        "colab": {
          "base_uri": "https://localhost:8080/",
          "height": 0
        },
        "id": "l5pvEwjwMW2G",
        "outputId": "97597754-7b19-4330-9bfa-4a1eb43f0c77"
      },
      "execution_count": 166,
      "outputs": [
        {
          "output_type": "execute_result",
          "data": {
            "text/plain": [
              "array([[1, 7],\n",
              "       [3, 6]])"
            ]
          },
          "metadata": {},
          "execution_count": 166
        }
      ]
    },
    {
      "cell_type": "code",
      "source": [
        "I = np.argsort(a[:, 0]); b = a[I,:]\n",
        "I"
      ],
      "metadata": {
        "colab": {
          "base_uri": "https://localhost:8080/",
          "height": 0
        },
        "id": "eW75camnMYC-",
        "outputId": "acd53e14-2e1a-4fbe-ce65-8cc7bbb65f69"
      },
      "execution_count": 169,
      "outputs": [
        {
          "output_type": "execute_result",
          "data": {
            "text/plain": [
              "array([1, 0])"
            ]
          },
          "metadata": {},
          "execution_count": 169
        }
      ]
    },
    {
      "cell_type": "code",
      "source": [
        "x = np.array([0, 1, 2, 3])\n",
        "y = np.array([-1, 0.2, 0.9, 2.1])\n",
        "A = np.vstack([x, np.ones(len(x))]).T\n",
        "np.linalg.lstsq(A, y, rcond=None)[0]"
      ],
      "metadata": {
        "colab": {
          "base_uri": "https://localhost:8080/",
          "height": 0
        },
        "id": "LwIACYeTMi94",
        "outputId": "df1d2f9c-b67f-47bb-b5f6-cdfde804dd4d"
      },
      "execution_count": 173,
      "outputs": [
        {
          "output_type": "execute_result",
          "data": {
            "text/plain": [
              "array([ 1.  , -0.95])"
            ]
          },
          "metadata": {},
          "execution_count": 173
        }
      ]
    },
    {
      "cell_type": "code",
      "source": [
        "from scipy import signal\n",
        "x = np.linspace(0, 10, 20, endpoint=False)\n",
        "y = np.cos(-x**2/6.0)\n",
        "signal.resample(y, 100)"
      ],
      "metadata": {
        "colab": {
          "base_uri": "https://localhost:8080/",
          "height": 0
        },
        "id": "H6P5L9KtM56z",
        "outputId": "9741ce0c-46fe-4841-b55c-d913cffcb0b4"
      },
      "execution_count": 179,
      "outputs": [
        {
          "output_type": "execute_result",
          "data": {
            "text/plain": [
              "array([ 1.        ,  1.23283311,  1.31727019,  1.27302765,  1.14740269,\n",
              "        0.99913207,  0.88078847,  0.82497964,  0.83806509,  0.90249922,\n",
              "        0.98614323,  1.05486   ,  1.08402435,  1.06536954,  1.00747904,\n",
              "        0.93050762,  0.85758366,  0.80620995,  0.78263328,  0.78081837,\n",
              "        0.78588726,  0.78033048,  0.75048699,  0.69094819,  0.60552319,\n",
              "        0.50478221,  0.40143727,  0.30548407,  0.22092394,  0.14511765,\n",
              "        0.0707372 , -0.01068719, -0.10512733, -0.21370903, -0.33240564,\n",
              "       -0.45366208, -0.56910426, -0.67215691, -0.75955883, -0.83131707,\n",
              "       -0.88932657, -0.93540864, -0.9696874 , -0.98998822, -0.9924354 ,\n",
              "       -0.97288395, -0.92847886, -0.85863231, -0.76502853, -0.65074937,\n",
              "       -0.51903563, -0.37236513, -0.21236454, -0.04065068,  0.13978552,\n",
              "        0.3233596 ,  0.50154373,  0.66375109,  0.79927642,  0.89960584,\n",
              "        0.96017029,  0.98077748,  0.96447814,  0.91530208,  0.8358487 ,\n",
              "        0.7258814 ,  0.58274561,  0.40370101,  0.18940426, -0.0528479 ,\n",
              "       -0.30761458, -0.55253797, -0.76231625, -0.91434367, -0.99416302,\n",
              "       -0.99876133, -0.93639432, -0.82285784, -0.67549774, -0.50723015,\n",
              "       -0.3230094 , -0.12038944,  0.1057018 ,  0.35559088,  0.61779519,\n",
              "        0.86547229,  1.0586815 ,  1.15286077,  1.11163922,  0.9202326 ,\n",
              "        0.59492066,  0.18484931, -0.23549411, -0.5819343 , -0.78050802,\n",
              "       -0.78611604, -0.59448055, -0.24372704,  0.19511472,  0.63613281])"
            ]
          },
          "metadata": {},
          "execution_count": 179
        }
      ]
    },
    {
      "cell_type": "code",
      "source": [
        "a = np.random.randint(low=0, high=6, size = (5, 5))\n",
        "np.unique(a)"
      ],
      "metadata": {
        "colab": {
          "base_uri": "https://localhost:8080/",
          "height": 0
        },
        "id": "dd4Gdc95NKao",
        "outputId": "13684203-25e3-43af-fb60-ca88c26486ea"
      },
      "execution_count": 182,
      "outputs": [
        {
          "output_type": "execute_result",
          "data": {
            "text/plain": [
              "array([0, 1, 2, 3, 4, 5])"
            ]
          },
          "metadata": {},
          "execution_count": 182
        }
      ]
    },
    {
      "cell_type": "code",
      "source": [
        "x = np.array([[[0], [1], [2]]])\n",
        "print(x)\n",
        "np.squeeze(x)"
      ],
      "metadata": {
        "colab": {
          "base_uri": "https://localhost:8080/",
          "height": 0
        },
        "id": "QgeH5oi6NUoF",
        "outputId": "66a7fc6b-f654-482c-86b5-fafec4ce9b96"
      },
      "execution_count": 188,
      "outputs": [
        {
          "output_type": "stream",
          "name": "stdout",
          "text": [
            "[[[0]\n",
            "  [1]\n",
            "  [2]]]\n"
          ]
        },
        {
          "output_type": "execute_result",
          "data": {
            "text/plain": [
              "array([0, 1, 2])"
            ]
          },
          "metadata": {},
          "execution_count": 188
        }
      ]
    }
  ]
}
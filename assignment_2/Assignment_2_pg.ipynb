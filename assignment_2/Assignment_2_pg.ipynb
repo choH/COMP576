{
  "nbformat": 4,
  "nbformat_minor": 0,
  "metadata": {
    "colab": {
      "provenance": [],
      "machine_shape": "hm",
      "collapsed_sections": []
    },
    "kernelspec": {
      "name": "python3",
      "display_name": "Python 3"
    },
    "language_info": {
      "name": "python"
    },
    "accelerator": "GPU",
    "gpuClass": "premium"
  },
  "cells": [
    {
      "cell_type": "code",
      "execution_count": 1,
      "metadata": {
        "colab": {
          "base_uri": "https://localhost:8080/"
        },
        "id": "NMjxCknmQddd",
        "outputId": "99d91eef-0e4f-452f-d44d-723eada18708"
      },
      "outputs": [
        {
          "output_type": "stream",
          "name": "stdout",
          "text": [
            "Mounted at /content/drive\n",
            "/content/drive/MyDrive/COMP576\n",
            "Wed Nov  2 22:33:00 2022       \n",
            "+-----------------------------------------------------------------------------+\n",
            "| NVIDIA-SMI 460.32.03    Driver Version: 460.32.03    CUDA Version: 11.2     |\n",
            "|-------------------------------+----------------------+----------------------+\n",
            "| GPU  Name        Persistence-M| Bus-Id        Disp.A | Volatile Uncorr. ECC |\n",
            "| Fan  Temp  Perf  Pwr:Usage/Cap|         Memory-Usage | GPU-Util  Compute M. |\n",
            "|                               |                      |               MIG M. |\n",
            "|===============================+======================+======================|\n",
            "|   0  A100-SXM4-40GB      Off  | 00000000:00:04.0 Off |                    0 |\n",
            "| N/A   30C    P0    44W / 400W |      0MiB / 40536MiB |      0%      Default |\n",
            "|                               |                      |             Disabled |\n",
            "+-------------------------------+----------------------+----------------------+\n",
            "                                                                               \n",
            "+-----------------------------------------------------------------------------+\n",
            "| Processes:                                                                  |\n",
            "|  GPU   GI   CI        PID   Type   Process name                  GPU Memory |\n",
            "|        ID   ID                                                   Usage      |\n",
            "|=============================================================================|\n",
            "|  No running processes found                                                 |\n",
            "+-----------------------------------------------------------------------------+\n"
          ]
        }
      ],
      "source": [
        "from google.colab import drive\n",
        "drive.mount('/content/drive', force_remount=True)\n",
        "\n",
        "\n",
        "\n",
        "%cd /content/drive/MyDrive/COMP576/\n",
        "\n",
        "!nvidia-smi"
      ]
    },
    {
      "cell_type": "code",
      "source": [
        "!pip install imageio"
      ],
      "metadata": {
        "colab": {
          "base_uri": "https://localhost:8080/",
          "height": 0
        },
        "id": "qvvpbnoPVygo",
        "outputId": "4f2640b8-8ba8-419f-ee11-7087f5d06304"
      },
      "execution_count": 6,
      "outputs": [
        {
          "output_type": "stream",
          "name": "stdout",
          "text": [
            "Looking in indexes: https://pypi.org/simple, https://us-python.pkg.dev/colab-wheels/public/simple/\n",
            "Requirement already satisfied: imageio in /usr/local/lib/python3.7/dist-packages (2.9.0)\n",
            "Requirement already satisfied: pillow in /usr/local/lib/python3.7/dist-packages (from imageio) (7.1.2)\n",
            "Requirement already satisfied: numpy in /usr/local/lib/python3.7/dist-packages (from imageio) (1.21.6)\n"
          ]
        }
      ]
    },
    {
      "cell_type": "code",
      "source": [
        "#Henry Zhong\n",
        "from scipy import misc\n",
        "import numpy as np\n",
        "import tensorflow.compat.v1 as tf\n",
        "tf.disable_v2_behavior()\n",
        "import random\n",
        "import matplotlib.pyplot as plt\n",
        "import matplotlib as mp\n",
        "\n",
        "from imageio import imread\n",
        "from PIL import Image\n",
        "\n",
        "# --------------------------------------------------\n",
        "# setup\n",
        "\n",
        "def weight_variable(shape):\n",
        "    '''\n",
        "    Initialize weights\n",
        "    :param shape: shape of weights, e.g. [w, h ,Cin, Cout] where\n",
        "    w: width of the filters\n",
        "    h: height of the filters\n",
        "    Cin: the number of the channels of the filters\n",
        "    Cout: the number of filters\n",
        "    :return: a tensor variable for weights with initial values\n",
        "    '''\n",
        "\n",
        "    # IMPLEMENT YOUR WEIGHT_VARIABLE HERE\n",
        "    W = tf.truncated_normal(shape, stddev = 0.1)\n",
        "    W = tf.Variable(W)\n",
        "    return W\n",
        "\n",
        "def bias_variable(shape):\n",
        "    '''\n",
        "    Initialize biases\n",
        "    :param shape: shape of biases, e.g. [Cout] where\n",
        "    Cout: the number of filters\n",
        "    :return: a tensor variable for biases with initial values\n",
        "    '''\n",
        "\n",
        "    # IMPLEMENT YOUR BIAS_VARIABLE HERE\n",
        "    b = tf.constant(0.1, shape = shape)\n",
        "    b = tf.Variable(b)\n",
        "    return b\n",
        "\n",
        "def conv2d(x, W):\n",
        "    '''\n",
        "    Perform 2-D convolution\n",
        "    :param x: input tensor of size [N, W, H, Cin] where\n",
        "    N: the number of images\n",
        "    W: width of images\n",
        "    H: height of images\n",
        "    Cin: the number of channels of images\n",
        "    :param W: weight tensor [w, h, Cin, Cout]\n",
        "    w: width of the filters\n",
        "    h: height of the filters\n",
        "    Cin: the number of the channels of the filters = the number of channels of images\n",
        "    Cout: the number of filters\n",
        "    :return: a tensor of features extracted by the filters, a.k.a. the results after convolution\n",
        "    '''\n",
        "\n",
        "    h_conv = tf.nn.conv2d(x, W, [1, 1, 1, 1], \"SAME\")\n",
        "    return h_conv\n",
        "\n",
        "def max_pool_2x2(x):\n",
        "    '''\n",
        "    Perform non-overlapping 2-D maxpooling on 2x2 regions in the input data\n",
        "    :param x: input data\n",
        "    :return: the results of maxpooling (max-marginalized + downsampling)\n",
        "    '''\n",
        "\n",
        "    # IMPLEMENT YOUR MAX_POOL_2X2 HERE\n",
        "    h_max = tf.nn.max_pool(x, [1, 2, 2, 1], [1, 2, 2, 1], \"SAME\")\n",
        "    return h_max\n",
        "\n",
        "\n",
        "ntrain = 500 # per class\n",
        "ntest = 100 # per class\n",
        "nclass = 10 # number of classes\n",
        "imsize = 28\n",
        "nchannels = 1\n",
        "batchsize = 50\n",
        "\n",
        "Train = np.zeros((ntrain*nclass,imsize,imsize,nchannels))\n",
        "Test = np.zeros((ntest*nclass,imsize,imsize,nchannels))\n",
        "LTrain = np.zeros((ntrain*nclass,nclass))\n",
        "LTest = np.zeros((ntest*nclass,nclass))\n",
        "\n",
        "itrain = -1\n",
        "itest = -1\n",
        "base_data_path = '/content/drive/MyDrive/CIFAR10/'\n",
        "for iclass in range(0, nclass):\n",
        "    for isample in range(0, ntrain):\n",
        "        sub_data_path = 'Train/%d/Image%05d.png' % (iclass,isample)\n",
        "        path = base_data_path + sub_data_path\n",
        "        # im = imread(path); # 28 by 28\n",
        "        im = np.asarray(Image.open(path), dtype = np.float64)\n",
        "        # print(f'Image {path} done')\n",
        "        im = im.astype(float)/255\n",
        "        # if isample%10 == 0:\n",
        "        #     print(f'\\r{isample+1}/{ntrain} done.\\r')\n",
        "        itrain += 1\n",
        "        Train[itrain,:,:,0] = im\n",
        "        LTrain[itrain,iclass] = 1 # 1-hot lable\n",
        "    print(f'Loaded {ntrain} train images from class {iclass}.')\n",
        "    for isample in range(0, ntest):\n",
        "        sub_data_path = 'Test/%d/Image%05d.png' % (iclass,isample)\n",
        "        path = base_data_path + sub_data_path\n",
        "        # im = imread(path); # 28 by 28\n",
        "        im = np.asarray(Image.open(path), dtype = np.float64)\n",
        "        im = im.astype(float)/255\n",
        "        # if isample%10 == 0:\n",
        "        #     print(f'\\r{isample+1}/{ntest} done.\\r')\n",
        "        itest += 1\n",
        "        Test[itest,:,:,0] = im\n",
        "        LTest[itest,iclass] = 1 # 1-hot lable\n",
        "    print(f'Loaded {ntest} test images from class {iclass}.')\n",
        "\n",
        "sess = tf.InteractiveSession()\n",
        "\n",
        "#tf variable for the data, remember shape is [None, width, height, numberOfChannels]\n",
        "tf_data = tf.placeholder(tf.float32, [None, imsize, imsize, nchannels])\n",
        "#tf variable for labels\n",
        "tf_labels = tf.placeholder(tf.float32, [None, nclass])\n",
        "\n",
        "# --------------------------------------------------\n",
        "# model\n",
        "#create your model\n",
        "\n",
        "W_conv1 = weight_variable([5, 5, 1, 32])\n",
        "b_conv1 = bias_variable([32])\n",
        "h_conv1 = tf.nn.relu(conv2d(tf_data, W_conv1) + b_conv1)\n",
        "h_pool1 = max_pool_2x2(h_conv1)\n",
        "\n",
        "W_conv2 = weight_variable([5, 5, 32, 64])\n",
        "b_conv2 = bias_variable([64])\n",
        "h_conv2 = tf.nn.relu(conv2d(h_pool1, W_conv2) + b_conv2)\n",
        "h_pool2 = max_pool_2x2(h_conv2)\n",
        "\n",
        "W_fc1 = weight_variable([7 * 7 * 64, 1024])\n",
        "b_fc1 = bias_variable([1024])\n",
        "h_pool2_flat = tf.reshape(h_pool2, [-1, 7*7*64])\n",
        "h_fc1 = tf.nn.relu(tf.matmul(h_pool2_flat, W_fc1) + b_fc1)\n",
        "\n",
        "keep_prob = tf.placeholder(tf.float32)\n",
        "h_fc1_drop = tf.nn.dropout(h_fc1, keep_prob)\n",
        "\n",
        "W_fc2 = weight_variable([1024, 10])\n",
        "b_fc2 = bias_variable([10])\n",
        "y_conv = tf.nn.softmax(tf.matmul(h_fc1_drop, W_fc2) + b_fc2)\n",
        "\n",
        "# --------------------------------------------------\n",
        "# loss\n",
        "#set up the loss, optimization, evaluation, and accuracy\n",
        "\n",
        "cross_entropy = tf.reduce_mean(-tf.reduce_sum(tf_labels * tf.log(y_conv), reduction_indices=[1]))\n",
        "\n",
        "learning_rate = tf.placeholder(tf.float32, shape=[])\n",
        "\n",
        "optimizer = tf.train.AdamOptimizer(1e-3).minimize(cross_entropy)\n",
        "# optimizer = tf.train.GradientDescentOptimizer(learning_rate = 1e-2).minimize(cross_entropy)\n",
        "correct_prediction = tf.equal(tf.argmax(y_conv, 1), tf.argmax(tf_labels, 1))\n",
        "accuracy = tf.reduce_mean(tf.cast(correct_prediction, tf.float32))\n",
        "\n",
        "\n",
        "# --------------------------------------------------\n",
        "# optimization\n",
        "\n",
        "sess.run(tf.initialize_all_variables())\n",
        "batch_xs = np.zeros([batchsize, imsize, imsize, nchannels]) #setup as [batchsize, width, height, numberOfChannels] and use np.zeros()\n",
        "batch_ys = np.zeros([batchsize, nclass]) #setup as [batchsize, the how many classes]\n",
        "\n",
        "nsamples = ntrain * nclass\n",
        "\n",
        "log_list = []\n",
        "for i in range(2000): # try a small iteration size once it works then continue\n",
        "    perm = np.arange(nsamples)\n",
        "    np.random.shuffle(perm)\n",
        "\n",
        "    it_feed_dict = {tf_data: batch_xs, tf_labels: batch_ys, keep_prob: 0.5}\n",
        "    for j in range(batchsize):\n",
        "        batch_xs[j,:,:,:] = Train[perm[j],:,:,:]\n",
        "        batch_ys[j,:] = LTrain[perm[j],:]\n",
        "    it_loss = cross_entropy.eval(feed_dict = it_feed_dict)\n",
        "    it_acc = accuracy.eval(feed_dict = it_feed_dict)\n",
        "    # record params\n",
        "    # first_weight = W_conv1.eval()\n",
        "    if i%100 == 0:\n",
        "        #calculate train accuracy and print it\n",
        "        it_test_acc = accuracy.eval(feed_dict={tf_data: Test, tf_labels: LTest, keep_prob: 1.0})\n",
        "        print(f'Step #{i}. Train Loss: {it_loss}; Train Acc: {it_acc}; Test Acc: {it_test_acc}')\n",
        "        log_list.append((i, it_loss, it_acc, it_test_acc))\n",
        "    optimizer.run(feed_dict = it_feed_dict) # dropout only during training\n",
        "\n",
        "# --------------------------------------------------\n",
        "# test\n",
        "\n",
        "\n",
        "print('#'*20)\n",
        "print(log_list)\n",
        "print(\"Final test accuracy %g\"%accuracy.eval(feed_dict={tf_data: Test, tf_labels: LTest, keep_prob: 1.0}))\n",
        "\n",
        "# --------------------------------------------------\n",
        "# visualization\n",
        "\n",
        "first_conv_weights = W_conv1.eval()\n",
        "\n",
        "\n",
        "fig = plt.figure()\n",
        "for i in range(32):\n",
        "    ax = fig.add_subplot(4, 8, 1 + i)\n",
        "    ax.imshow(first_conv_weights[:, :, 0, i], cmap='gray')\n",
        "    plt.axis('off')\n",
        "plt.savefig('1st conv layer')\n",
        "plt.show()\n",
        "\n",
        "# --------------------------------------------------\n",
        "# activation stats\n",
        "\n",
        "h_conv1_stats = np.array(h_conv1.eval(feed_dict = {tf_data: Test, tf_labels: LTest, keep_prob: 1.0}))\n",
        "h_conv2_stats = np.array(h_conv2.eval(feed_dict = {tf_data: Test, tf_labels: LTest, keep_prob: 1.0}))\n",
        "print(f'h_conv1_stats: mean = {np.mean(h_conv1_stats)}; var = {np.var(h_conv1_stats)}')\n",
        "print(f'h_conv2_stats: mean = {np.mean(h_conv2_stats)}; var = {np.var(h_conv2_stats)}')\n",
        "\n",
        "\n",
        "sess.close()"
      ],
      "metadata": {
        "colab": {
          "base_uri": "https://localhost:8080/",
          "height": 1000
        },
        "id": "_LiANtnrVdOT",
        "outputId": "39c8b488-3292-4f3c-e018-8dd1ebc916da"
      },
      "execution_count": 95,
      "outputs": [
        {
          "output_type": "stream",
          "name": "stdout",
          "text": [
            "Loaded 500 train images from class 0.\n",
            "Loaded 100 test images from class 0.\n",
            "Loaded 500 train images from class 1.\n",
            "Loaded 100 test images from class 1.\n",
            "Loaded 500 train images from class 2.\n",
            "Loaded 100 test images from class 2.\n",
            "Loaded 500 train images from class 3.\n",
            "Loaded 100 test images from class 3.\n",
            "Loaded 500 train images from class 4.\n",
            "Loaded 100 test images from class 4.\n",
            "Loaded 500 train images from class 5.\n",
            "Loaded 100 test images from class 5.\n",
            "Loaded 500 train images from class 6.\n",
            "Loaded 100 test images from class 6.\n",
            "Loaded 500 train images from class 7.\n",
            "Loaded 100 test images from class 7.\n",
            "Loaded 500 train images from class 8.\n",
            "Loaded 100 test images from class 8.\n",
            "Loaded 500 train images from class 9.\n",
            "Loaded 100 test images from class 9.\n",
            "Step #0. Train Loss: 10.000940322875977; Train Acc: 0.10000000149011612; Test Acc: 0.09700000286102295\n",
            "Step #100. Train Loss: 1.9369598627090454; Train Acc: 0.3199999928474426; Test Acc: 0.3059999942779541\n",
            "Step #200. Train Loss: 1.8821743726730347; Train Acc: 0.2800000011920929; Test Acc: 0.35600000619888306\n",
            "Step #300. Train Loss: 1.5730291604995728; Train Acc: 0.30000001192092896; Test Acc: 0.38100001215934753\n",
            "Step #400. Train Loss: 1.47721266746521; Train Acc: 0.3400000035762787; Test Acc: 0.42500001192092896\n",
            "Step #500. Train Loss: 1.2761863470077515; Train Acc: 0.5600000023841858; Test Acc: 0.4020000100135803\n",
            "Step #600. Train Loss: 1.1223334074020386; Train Acc: 0.5799999833106995; Test Acc: 0.41499999165534973\n",
            "Step #700. Train Loss: 0.9922785758972168; Train Acc: 0.6800000071525574; Test Acc: 0.44999998807907104\n",
            "Step #800. Train Loss: 0.7591972947120667; Train Acc: 0.6800000071525574; Test Acc: 0.42100000381469727\n",
            "Step #900. Train Loss: 1.0491466522216797; Train Acc: 0.699999988079071; Test Acc: 0.47699999809265137\n",
            "Step #1000. Train Loss: 0.8487350344657898; Train Acc: 0.8600000143051147; Test Acc: 0.4790000021457672\n",
            "Step #1100. Train Loss: 0.7154133319854736; Train Acc: 0.7200000286102295; Test Acc: 0.46000000834465027\n",
            "Step #1200. Train Loss: 0.5990908145904541; Train Acc: 0.8799999952316284; Test Acc: 0.4860000014305115\n",
            "Step #1300. Train Loss: 0.5453547835350037; Train Acc: 0.8399999737739563; Test Acc: 0.47099998593330383\n",
            "Step #1400. Train Loss: 0.21699859201908112; Train Acc: 0.9200000166893005; Test Acc: 0.46799999475479126\n",
            "Step #1500. Train Loss: 0.36792662739753723; Train Acc: 0.8600000143051147; Test Acc: 0.46799999475479126\n",
            "Step #1600. Train Loss: 0.30725106596946716; Train Acc: 0.8999999761581421; Test Acc: 0.4880000054836273\n",
            "Step #1700. Train Loss: 0.2931874692440033; Train Acc: 0.9599999785423279; Test Acc: 0.4860000014305115\n",
            "Step #1800. Train Loss: 0.33341217041015625; Train Acc: 0.8999999761581421; Test Acc: 0.45899999141693115\n",
            "Step #1900. Train Loss: 0.22051526606082916; Train Acc: 0.9399999976158142; Test Acc: 0.4749999940395355\n",
            "####################\n",
            "[(0, 10.00094, 0.1, 0.097), (100, 1.9369599, 0.32, 0.306), (200, 1.8821744, 0.28, 0.356), (300, 1.5730292, 0.3, 0.381), (400, 1.4772127, 0.34, 0.425), (500, 1.2761863, 0.56, 0.402), (600, 1.1223334, 0.58, 0.415), (700, 0.9922786, 0.68, 0.45), (800, 0.7591973, 0.68, 0.421), (900, 1.0491467, 0.7, 0.477), (1000, 0.84873503, 0.86, 0.479), (1100, 0.71541333, 0.72, 0.46), (1200, 0.5990908, 0.88, 0.486), (1300, 0.5453548, 0.84, 0.471), (1400, 0.21699859, 0.92, 0.468), (1500, 0.36792663, 0.86, 0.468), (1600, 0.30725107, 0.9, 0.488), (1700, 0.29318747, 0.96, 0.486), (1800, 0.33341217, 0.9, 0.459), (1900, 0.22051527, 0.94, 0.475)]\n",
            "Final test accuracy 0.48\n"
          ]
        },
        {
          "output_type": "display_data",
          "data": {
            "text/plain": [
              "<Figure size 432x288 with 32 Axes>"
            ],
            "image/png": "[encoded data removed]"
          },
          "metadata": {
            "needs_background": "light"
          }
        },
        {
          "output_type": "stream",
          "name": "stdout",
          "text": [
            "h_conv1_stats: mean = 0.08629325032234192; var = 0.012447437271475792\n",
            "h_conv2_stats: mean = 0.015239840373396873; var = 0.009520959109067917\n"
          ]
        }
      ]
    },
    {
      "cell_type": "code",
      "source": [
        "import matplotlib.pyplot as plt\n",
        "\n",
        "input = [(0, 15.664182, 0.04, 0.081), (100, 3.420445, 0.14, 0.132), (200, 2.5499897, 0.12, 0.164), (300, 2.2371066, 0.22, 0.166), (400, 2.4379663, 0.16, 0.2), (500, 2.36761, 0.06, 0.199), (600, 2.2497404, 0.12, 0.207), (700, 2.2751899, 0.2, 0.22), (800, 2.3075957, 0.26, 0.225), (900, 2.1817377, 0.12, 0.243), (1000, 2.1247454, 0.22, 0.231), (1100, 2.1825147, 0.12, 0.231), (1200, 2.29993, 0.22, 0.237), (1300, 2.1764975, 0.18, 0.255), (1400, 2.2973058, 0.2, 0.258), (1500, 2.212947, 0.24, 0.263), (1600, 2.210685, 0.06, 0.277), (1700, 2.229136, 0.24, 0.262), (1800, 2.084505, 0.2, 0.259), (1900, 2.178103, 0.24, 0.262)]\n",
        "\n",
        "\n",
        "x = [i[0] for i in input]\n",
        "y_train_loss = [i[1] for i in input]\n",
        "y_train_acc = [i[2] for i in input]\n",
        "y_test_acc = [i[3] for i in input]\n",
        "\n",
        "# plt.plot(x, y_train_loss, label=\"train loss\")\n",
        "plt.plot(x, y_train_acc, label=\"train acc\")\n",
        "plt.plot(x, y_test_acc, label=\"test acc\")\n",
        "plt.plot()\n",
        "\n",
        "plt.xlabel(\"Step #\")\n",
        "plt.ylabel(\"Acc.\")\n",
        "plt.legend()\n",
        "plt.show()\n"
      ],
      "metadata": {
        "colab": {
          "base_uri": "https://localhost:8080/",
          "height": 279
        },
        "id": "R8yW_8QPyEPS",
        "outputId": "83b10dda-fd71-4c2c-9e59-eb270c78c1cb"
      },
      "execution_count": 81,
      "outputs": [
        {
          "output_type": "display_data",
          "data": {
            "text/plain": [
              "<Figure size 432x288 with 1 Axes>"
            ],
            "image/png": "[encoded data removed]"
          },
          "metadata": {
            "needs_background": "light"
          }
        }
      ]
    },
    {
      "cell_type": "code",
      "source": [
        "import matplotlib.pyplot as plt\n",
        "\n",
        "input = [(0, 15.664182, 0.04, 0.081), (100, 3.420445, 0.14, 0.132), (200, 2.5499897, 0.12, 0.164), (300, 2.2371066, 0.22, 0.166), (400, 2.4379663, 0.16, 0.2), (500, 2.36761, 0.06, 0.199), (600, 2.2497404, 0.12, 0.207), (700, 2.2751899, 0.2, 0.22), (800, 2.3075957, 0.26, 0.225), (900, 2.1817377, 0.12, 0.243), (1000, 2.1247454, 0.22, 0.231), (1100, 2.1825147, 0.12, 0.231), (1200, 2.29993, 0.22, 0.237), (1300, 2.1764975, 0.18, 0.255), (1400, 2.2973058, 0.2, 0.258), (1500, 2.212947, 0.24, 0.263), (1600, 2.210685, 0.06, 0.277), (1700, 2.229136, 0.24, 0.262), (1800, 2.084505, 0.2, 0.259), (1900, 2.178103, 0.24, 0.262)]\n",
        "\n",
        "x = [i[0] for i in input]\n",
        "y_train_loss = [i[1] for i in input]\n",
        "y_train_acc = [i[2] for i in input]\n",
        "y_test_acc = [i[3] for i in input]\n",
        "\n",
        "plt.plot(x, y_train_loss, label=\"train loss\")\n",
        "# plt.plot(x, y_train_acc, label=\"train acc\")\n",
        "# plt.plot(x, y_test_acc, label=\"test acc\")\n",
        "plt.plot()\n",
        "\n",
        "plt.xlabel(\"Step #\")\n",
        "plt.ylabel(\"Train Loss\")\n",
        "plt.legend()\n",
        "plt.show()\n"
      ],
      "metadata": {
        "colab": {
          "base_uri": "https://localhost:8080/",
          "height": 279
        },
        "id": "jyy1BHOezfGd",
        "outputId": "e3b4f82b-197e-48d5-8647-f87b71c0fc10"
      },
      "execution_count": 82,
      "outputs": [
        {
          "output_type": "display_data",
          "data": {
            "text/plain": [
              "<Figure size 432x288 with 1 Axes>"
            ],
            "image/png": "[encoded data removed]"
          },
          "metadata": {
            "needs_background": "light"
          }
        }
      ]
    },
    {
      "cell_type": "code",
      "source": [
        "import assignment_2.input_data as input_data"
      ],
      "metadata": {
        "id": "xAaQu1gLMH91"
      },
      "execution_count": 2,
      "outputs": []
    },
    {
      "cell_type": "code",
      "source": [
        "#Henry Zhong\n",
        "import tensorflow.compat.v1 as tf\n",
        "tf.disable_v2_behavior()\n",
        "tf.reset_default_graph()\n",
        "\n",
        "# import tensorflow as tf\n",
        "from tensorflow.python.ops import rnn, rnn_cell\n",
        "# from tensorflow.python.ops import rnn_cell\n",
        "import numpy as np\n",
        "\n",
        "import assignment_2.input_data as input_data\n",
        "# from tensorflow.examples.tutorials.mnist import input_data\n",
        "\n",
        "mnist = input_data.read_data_sets('MNIST_data', one_hot = True)#call mnist function\n",
        "\n",
        "learningRate = 1e-3\n",
        "trainingIters = 50000\n",
        "batchSize = 128\n",
        "displayStep = 20\n",
        "\n",
        "nInput =  28#we want the input to take the 28 pixels\n",
        "nSteps =  28 #every 28\n",
        "nHidden = 64 #number of neurons for the RNN\n",
        "nClasses = 10 #this is MNIST so you know\n",
        "\n",
        "x = tf.placeholder('float', [None, nSteps, nInput])\n",
        "y = tf.placeholder('float', [None, nClasses])\n",
        "\n",
        "weights = {\n",
        "\t'out': tf.Variable(tf.random_normal([nHidden, nClasses]))\n",
        "}\n",
        "\n",
        "biases = {\n",
        "\t'out': tf.Variable(tf.random_normal([nClasses]))\n",
        "}\n",
        "\n",
        "def RNN(x, weights, biases):\n",
        "\tx = tf.transpose(x, [1,0,2])\n",
        "\tx = tf.reshape(x, [-1, nInput])\n",
        "\tx = tf.split(x, nSteps, 0) #configuring so you can get it as needed for the 28 pixels\n",
        "\n",
        "\t# lstmCell = rnn.BasicRNNCell(nHidden) #find which lstm to use in the documentation\n",
        "\t# lstmCell = rnn_cell.BasicRNNCell(nHidden) #find which lstm to use in the documentation\n",
        "\t# lstmCell = rnn_cell.BasicLSTMCell(nHidden, forget_bias=1.0)\n",
        "\tlstmCell = rnn_cell.GRUCell(nHidden)\n",
        "\n",
        "\toutputs, states = rnn.static_rnn(lstmCell, x, dtype=tf.float32)#for the rnn where to get the output and hidden state\n",
        "\n",
        "\treturn tf.matmul(outputs[-1], weights['out'])+ biases['out']\n",
        "\n",
        "pred = RNN(x, weights, biases)\n",
        "\n",
        "#optimization\n",
        "#create the cost, optimization, evaluation, and accuracy\n",
        "#for the cost softmax_cross_entropy_with_logits seems really good\n",
        "cost = tf.reduce_mean(tf.nn.softmax_cross_entropy_with_logits(logits=pred, labels=y))\n",
        "optimizer = tf.train.AdamOptimizer(learning_rate = learningRate).minimize(cost)\n",
        "\n",
        "correctPred = tf.equal(tf.argmax(pred, axis=1), tf.argmax(y, axis=1))\n",
        "accuracy = tf.reduce_mean(tf.cast(correctPred, tf.float32))\n",
        "\n",
        "init = tf.initialize_all_variables()\n",
        "\n",
        "log_list = []\n",
        "testData = mnist.test.images.reshape((-1, nSteps, nInput))\n",
        "testLabel = mnist.test.labels\n",
        "test_feed_dict = {x: testData, y: testLabel}\n",
        "with tf.Session() as sess:\n",
        "\tsess.run(init)\n",
        "\tstep = 1\n",
        "\n",
        "\twhile step* batchSize < trainingIters:\n",
        "\t\tbatchX, batchY = mnist.train.next_batch(batchSize) #mnist has a way to get the next batch\n",
        "\t\tbatchX = batchX.reshape((batchSize, nSteps, nInput))\n",
        "\n",
        "\n",
        "\t\tbatch_feed_dict = {x: batchX, y: batchY}\n",
        "\t\tsess.run(optimizer, feed_dict = batch_feed_dict)\n",
        "\t\ttrain_acc = sess.run(accuracy, feed_dict = batch_feed_dict)\n",
        "\t\tloss = sess.run(cost, feed_dict = batch_feed_dict)\n",
        "\t\ttest_acc = sess.run(accuracy, feed_dict = test_feed_dict)\n",
        "\t\tif step % displayStep == 0:\n",
        "\t\t\tlog_list.append([step * batchSize, loss, train_acc, test_acc])\n",
        "\t\t\tprint(\"Iter \" + str(step*batchSize) + \", Minibatch Loss = \" + \\\n",
        "\t\t\t\t\t  \"{:.6f}\".format(loss) + \", Training Accuracy = \" + \\\n",
        "\t\t\t\t\t  \"{:.5f}\".format(train_acc))\n",
        "\t\t\tprint(f'Test acc: {test_acc}')\n",
        "\n",
        "\n",
        "\t\tstep +=1\n",
        "\n",
        "\tprint('Optimization finished')\n",
        "\n",
        "\t# testData = mnist.test.images.reshape((-1, nSteps, nInput))\n",
        "\t# testLabel = mnist.test.labels\n",
        "\ttest_feed_dict = {x: testData, y: testLabel}\n",
        "\tprint(\"Final Test Accuracy:\", \\\n",
        "\t\tsess.run(accuracy, feed_dict = test_feed_dict))\n",
        "\n",
        "print(log_list)"
      ],
      "metadata": {
        "colab": {
          "base_uri": "https://localhost:8080/"
        },
        "id": "PR5mzjFwF2dN",
        "outputId": "319bcd85-8bfb-446e-b939-41f96fa47ea9"
      },
      "execution_count": 47,
      "outputs": [
        {
          "output_type": "stream",
          "name": "stdout",
          "text": [
            "Extracting MNIST_data/train-images-idx3-ubyte.gz\n",
            "Extracting MNIST_data/train-labels-idx1-ubyte.gz\n",
            "Extracting MNIST_data/t10k-images-idx3-ubyte.gz\n",
            "Extracting MNIST_data/t10k-labels-idx1-ubyte.gz\n",
            "Iter 2560, Minibatch Loss = 2.138169, Training Accuracy = 0.25000\n",
            "Test acc: 0.3050999939441681\n",
            "Iter 5120, Minibatch Loss = 1.853819, Training Accuracy = 0.35156\n",
            "Test acc: 0.413100004196167\n",
            "Iter 7680, Minibatch Loss = 1.297559, Training Accuracy = 0.59375\n",
            "Test acc: 0.5198000073432922\n",
            "Iter 10240, Minibatch Loss = 1.200397, Training Accuracy = 0.61719\n",
            "Test acc: 0.6159999966621399\n",
            "Iter 12800, Minibatch Loss = 0.976686, Training Accuracy = 0.65625\n",
            "Test acc: 0.7027000188827515\n",
            "Iter 15360, Minibatch Loss = 0.650585, Training Accuracy = 0.79688\n",
            "Test acc: 0.73089998960495\n",
            "Iter 17920, Minibatch Loss = 0.615305, Training Accuracy = 0.78125\n",
            "Test acc: 0.77920001745224\n",
            "Iter 20480, Minibatch Loss = 0.503971, Training Accuracy = 0.82031\n",
            "Test acc: 0.805899977684021\n",
            "Iter 23040, Minibatch Loss = 0.428301, Training Accuracy = 0.89844\n",
            "Test acc: 0.8309999704360962\n",
            "Iter 25600, Minibatch Loss = 0.400288, Training Accuracy = 0.85938\n",
            "Test acc: 0.8496999740600586\n",
            "Iter 28160, Minibatch Loss = 0.586556, Training Accuracy = 0.78906\n",
            "Test acc: 0.8690000176429749\n",
            "Iter 30720, Minibatch Loss = 0.308103, Training Accuracy = 0.88281\n",
            "Test acc: 0.8847000002861023\n",
            "Iter 33280, Minibatch Loss = 0.340268, Training Accuracy = 0.92969\n",
            "Test acc: 0.8978000283241272\n",
            "Iter 35840, Minibatch Loss = 0.276488, Training Accuracy = 0.92188\n",
            "Test acc: 0.9115999937057495\n",
            "Iter 38400, Minibatch Loss = 0.242642, Training Accuracy = 0.92188\n",
            "Test acc: 0.9096999764442444\n",
            "Iter 40960, Minibatch Loss = 0.205426, Training Accuracy = 0.94531\n",
            "Test acc: 0.920199990272522\n",
            "Iter 43520, Minibatch Loss = 0.285109, Training Accuracy = 0.92969\n",
            "Test acc: 0.9266999959945679\n",
            "Iter 46080, Minibatch Loss = 0.148974, Training Accuracy = 0.97656\n",
            "Test acc: 0.9291999936103821\n",
            "Iter 48640, Minibatch Loss = 0.324321, Training Accuracy = 0.91406\n",
            "Test acc: 0.9362999796867371\n",
            "Optimization finished\n",
            "Final Test Accuracy: 0.9333\n",
            "[[2560, 2.1381688, 0.25, 0.3051], [5120, 1.853819, 0.3515625, 0.4131], [7680, 1.2975587, 0.59375, 0.5198], [10240, 1.2003965, 0.6171875, 0.616], [12800, 0.9766856, 0.65625, 0.7027], [15360, 0.6505847, 0.796875, 0.7309], [17920, 0.61530465, 0.78125, 0.7792], [20480, 0.50397074, 0.8203125, 0.8059], [23040, 0.4283014, 0.8984375, 0.831], [25600, 0.40028802, 0.859375, 0.8497], [28160, 0.5865559, 0.7890625, 0.869], [30720, 0.30810308, 0.8828125, 0.8847], [33280, 0.3402683, 0.9296875, 0.8978], [35840, 0.27648813, 0.921875, 0.9116], [38400, 0.24264152, 0.921875, 0.9097], [40960, 0.2054255, 0.9453125, 0.9202], [43520, 0.28510946, 0.9296875, 0.9267], [46080, 0.14897436, 0.9765625, 0.9292], [48640, 0.32432073, 0.9140625, 0.9363]]\n"
          ]
        }
      ]
    },
    {
      "cell_type": "code",
      "source": [
        "import matplotlib.pyplot as plt\n",
        "\n",
        "input = [[2560, 2.1381688, 0.25, 0.3051], [5120, 1.853819, 0.3515625, 0.4131], [7680, 1.2975587, 0.59375, 0.5198], [10240, 1.2003965, 0.6171875, 0.616], [12800, 0.9766856, 0.65625, 0.7027], [15360, 0.6505847, 0.796875, 0.7309], [17920, 0.61530465, 0.78125, 0.7792], [20480, 0.50397074, 0.8203125, 0.8059], [23040, 0.4283014, 0.8984375, 0.831], [25600, 0.40028802, 0.859375, 0.8497], [28160, 0.5865559, 0.7890625, 0.869], [30720, 0.30810308, 0.8828125, 0.8847], [33280, 0.3402683, 0.9296875, 0.8978], [35840, 0.27648813, 0.921875, 0.9116], [38400, 0.24264152, 0.921875, 0.9097], [40960, 0.2054255, 0.9453125, 0.9202], [43520, 0.28510946, 0.9296875, 0.9267], [46080, 0.14897436, 0.9765625, 0.9292], [48640, 0.32432073, 0.9140625, 0.9363]]\n",
        "\n",
        "\n",
        "\n",
        "\n",
        "\n",
        "\n",
        "\n",
        "x = [i[0] for i in input]\n",
        "# y_train_loss = [i[1] for i in input]\n",
        "y_train_acc = [i[2] for i in input]\n",
        "y_test_acc = [i[3] for i in input]\n",
        "\n",
        "# plt.plot(x, y_train_loss, label=\"train loss\")\n",
        "plt.plot(x, y_train_acc, label=\"train acc\")\n",
        "plt.plot(x, y_test_acc, label=\"test acc\")\n",
        "plt.plot()\n",
        "\n",
        "plt.xlabel(\"Step #\")\n",
        "plt.ylabel(\"Acc.\")\n",
        "plt.legend()\n",
        "plt.show()\n"
      ],
      "metadata": {
        "colab": {
          "base_uri": "https://localhost:8080/",
          "height": 280
        },
        "id": "r9d9Uamsr2sC",
        "outputId": "8be3eba8-54d1-4ca6-fb2c-cf46303ea268"
      },
      "execution_count": 48,
      "outputs": [
        {
          "output_type": "display_data",
          "data": {
            "text/plain": [
              "<Figure size 432x288 with 1 Axes>"
            ],
            "image/png": "[encoded data removed]"
          },
          "metadata": {
            "needs_background": "light"
          }
        }
      ]
    },
    {
      "cell_type": "code",
      "source": [
        "import matplotlib.pyplot as plt\n",
        "\n",
        "input = [[2560, 2.1381688, 0.25, 0.3051], [5120, 1.853819, 0.3515625, 0.4131], [7680, 1.2975587, 0.59375, 0.5198], [10240, 1.2003965, 0.6171875, 0.616], [12800, 0.9766856, 0.65625, 0.7027], [15360, 0.6505847, 0.796875, 0.7309], [17920, 0.61530465, 0.78125, 0.7792], [20480, 0.50397074, 0.8203125, 0.8059], [23040, 0.4283014, 0.8984375, 0.831], [25600, 0.40028802, 0.859375, 0.8497], [28160, 0.5865559, 0.7890625, 0.869], [30720, 0.30810308, 0.8828125, 0.8847], [33280, 0.3402683, 0.9296875, 0.8978], [35840, 0.27648813, 0.921875, 0.9116], [38400, 0.24264152, 0.921875, 0.9097], [40960, 0.2054255, 0.9453125, 0.9202], [43520, 0.28510946, 0.9296875, 0.9267], [46080, 0.14897436, 0.9765625, 0.9292], [48640, 0.32432073, 0.9140625, 0.9363]]\n",
        "\n",
        "\n",
        "\n",
        "\n",
        "\n",
        "\n",
        "\n",
        "\n",
        "\n",
        "x = [i[0] for i in input]\n",
        "y_train_loss = [i[1] for i in input]\n",
        "# y_train_acc = [i[2] for i in input]\n",
        "# y_test_acc = [i[3] for i in input]\n",
        "\n",
        "plt.plot(x, y_train_loss, label=\"train loss\")\n",
        "# plt.plot(x, y_train_acc, label=\"train acc\")\n",
        "# plt.plot(x, y_test_acc, label=\"test acc\")\n",
        "plt.plot()\n",
        "\n",
        "plt.xlabel(\"Step #\")\n",
        "plt.ylabel(\"Train Loss\")\n",
        "plt.legend()\n",
        "plt.show()\n"
      ],
      "metadata": {
        "colab": {
          "base_uri": "https://localhost:8080/",
          "height": 279
        },
        "id": "lbyoEbydsIr2",
        "outputId": "603b5c72-3afc-4a17-8937-1814d2fc9eaa"
      },
      "execution_count": 49,
      "outputs": [
        {
          "output_type": "display_data",
          "data": {
            "text/plain": [
              "<Figure size 432x288 with 1 Axes>"
            ],
            "image/png": "[encoded data removed]"
          },
          "metadata": {
            "needs_background": "light"
          }
        }
      ]
    }
  ]
}